{
 "cells": [
  {
   "cell_type": "markdown",
   "metadata": {
    "colab_type": "text",
    "id": "qte1zzpge-7L"
   },
   "source": [
    "# What you will learn\n",
    "\n",
    "http://www.sthda.com/english/articles/11-machine-learning/\n",
    "\n",
    "\n",
    "Large amount of data are recorded every day in different fields, including marketing, bio-medical and security. To discover knowledge from these data, you need machine learning techniques, which are classified into two categories:\n",
    "\n",
    "**1. Unsupervised machine learning methods:**\n",
    "\n",
    "These include mainly clustering and principal component analysis methods. The goal of clustering is to identify pattern or groups of similar objects within a data set of interest. Principal component methods consist of summarizing and visualizing the most important information contained in a multivariate data set.\n",
    "\n",
    "These methods are “unsupervised” because we are not guided by a priori ideas of which variables or samples belong in which clusters or groups. The machine algorithm “learns” how to cluster or summarize the data.\n",
    "\n",
    "**2. Supervised machine learning methods:**\n",
    "\n",
    "Supervised learning consists of building mathematical models for predicting the outcome of future observations. Predictive models can be classified into two main groups:\n",
    "\n",
    "+ regression analysis for predicting a continuous variable. For example, you might want to predict life expectancy based on socio-economic indicators.\n",
    "\n",
    "+ Classification for predicting the class (or group) of individuals. For example, you might want to predict the probability of being diabetes-positive based on the glucose concentration in the plasma of patients.\n",
    "\n",
    "These methods are supervised because we build the model based on known outcome values. That is, the machine learns from known observation outcomes in order to predict the outcome of future cases.\n",
    "\n",
    "Here, we present a practical guide to machine learning methods for exploring data sets, as well as, for building predictive models.\n",
    "\n",
    "\n"
   ]
  },
  {
   "cell_type": "markdown",
   "metadata": {
    "colab_type": "text",
    "id": "LrKGSJWqgdEe"
   },
   "source": [
    "# Key features of the tutorials\n",
    "\n",
    "Our goal was to write a practical guide to machine learning for every one.\n",
    "\n",
    "The main parts of the book include:\n",
    "\n",
    "**Unsupervised learning methods,** to explore and discover knowledge from a large multivariate data set using clustering and principal component methods. You will learn hierarchical clustering, k-means, principal component analysis and correspondence analysis methods.\n",
    "\n",
    "**Regression analysis,** to predict a quantitative outcome value using linear regression and non-linear regression strategies.\n",
    "\n",
    "**Classification techniques,** to predict a qualitative outcome value using logistic regression, discriminant analysis, naive bayes classifier and support vector machines.\n",
    "Advanced machine learning methods, to build robust regression and classification models using k-nearest neighbors methods, decision tree models, ensemble methods (bagging, random forest and boosting)\n",
    "\n",
    "**Model selection methods,** to select automatically the best combination of predictor variables for building an optimal predictive model. These include, best subsets selection methods, stepwise regression and penalized regression (ridge, lasso and elastic net regression models). We also present principal component-based regression methods, which are useful when the data contain multiple correlated predictor variables.\n",
    "\n",
    "**Model validation and evaluation techniques** for measuring the performance of a predictive model.\n",
    "\n",
    "**Model diagnostics** for detecting and fixing a potential problems in a predictive model.\n",
    "The book presents the basic principles of these tasks and provide many examples in R. This book offers solid guidance in data mining for students and researchers.\n",
    "\n",
    "Key features:\n",
    "\n",
    "Covers machine learning algorithm and implementation\n",
    "Key mathematical concepts are presented\n",
    "Short, self-contained chapters with practical examples. This means that, you don’t need to read the different chapters in sequence."
   ]
  },
  {
   "cell_type": "markdown",
   "metadata": {
    "colab_type": "text",
    "id": "QX0gof0wegBA"
   },
   "source": [
    "# Regression Analysis"
   ]
  },
  {
   "cell_type": "markdown",
   "metadata": {
    "colab_type": "text",
    "id": "U32_q6RhiSZa"
   },
   "source": [
    "**Regression analysis (or regression model)** consists of a set of machine learning methods that allow us to predict a continuous outcome variable (y) based on the value of one or multiple predictor variables (x).\n",
    "\n",
    "Briefly, the goal of regression model is to build a mathematical equation that defines y as a function of the x variables. Next, this equation can be used to predict the outcome (y) on the basis of new values of the predictor variables (x).\n",
    "\n",
    "**Linear regression** is the most simple and popular technique for predicting a continuous variable. It assumes a linear relationship between the outcome and the predictor variables. See Chapter @ref(linear-regression).\n",
    "\n",
    "The linear regression equation can be written as y = b0 + b*x, where:\n",
    "\n",
    "+ b0 is the intercept,\n",
    "\n",
    "+ b is the regression weight or coefficient associated with the predictor variable x.\n",
    "\n",
    "Technically, the linear regression coefficients are detetermined so that the error in predicting the outcome value is minimized. This method of computing the beta coefficients is called the **Ordinary Least Squares method**.\n",
    "\n",
    "When you have multiple predictor variables, say x1 and x2, the regression equation can be written as *y = b0 + b1*x1 + b2*x2*. In some situations, there might be an **interaction effect** between some predictors, that is for example, increasing the value of a predictor variable x1 may increase the effectiveness of the predictor x2 in explaining the variation in the outcome variable. \n",
    "\n",
    "Note also that, linear regression models can incorporate both **continuous** and **categorical predictor variables**.\n",
    "\n",
    "When you build the linear regression model, you need to **diagnostic** whether linear model is suitable for your data. \n",
    "\n",
    "In some cases, the relationship between the outcome and the predictor variables is not linear. In these situations, you need to build a **non-linear regression**, such as polynomial and spline regression. \n",
    "\n",
    "When you have multiple predictors in the regression model, you might want to select the best combination of predictor variables to build an optimal predictive model. This process called **model selection**, consists of comparing multiple models containing different sets of predictors in order to select the best performing model that minimize the prediction error. Linear model selection approaches include best subsets regression  and stepwise regression .\n",
    "\n",
    "In some situations, such as in genomic fields, you might have a large multivariate data set containing some correlated predictors. In this case, the information, in the original data set, can be summarized into few new variables (called principal components) that are a linear combination of the original variables. This few principal components can be used to build a linear model, which might be more performant for your data. This approach is know as **principal component-based methods** , which include: **principal component regression** and **partial least squares regression**.\n",
    "\n",
    "An alternative method to simplify a large multivariate model is to use **penalized regression** , which penalizes the model for having too many variables. The most well known penalized regression include **ridge regression** and **the lasso regression**.\n",
    "\n",
    "You can apply all these different regression models on your data, compare the models and finally select the best approach that explains well your data. To do so, you need some statistical metrics to compare the performance of the different models in explaining your data and in predicting the outcome of new test data.\n",
    "\n",
    "The best model is defined as the model that has the lowest prediction error. The most popular metrics for comparing regression models, include:\n",
    "\n",
    "**Root Mean Squared Error**, which measures the model prediction error. It corresponds to the average difference between the observed known values of the outcome and the predicted value by the model. RMSE is computed as RMSE = mean((observeds - predicteds)^2) %>% sqrt(). The lower the RMSE, the better the model.\n",
    "\n",
    "**R-square**, representing the squared correlation between the observed known outcome values and the predicted values by the model. The higher the R2, the better the model.\n",
    "\n",
    "**Adjusted R-square**, representing the proportion of variation (i.e., information), in your data, explained by the model. This corresponds to the overall quality of the model. The higher the adjusted R2, the better the model.\n",
    "\n",
    "Note that, the above mentioned metrics should be computed on a new test data that has not been used to train (i.e. build) the model. If you have a large data set, with many records, you can randomly split the data into training set (80% for building the predictive model) and test set or validation set (20% for evaluating the model performance).\n",
    "\n",
    "One of the most robust and popular approach for estimating a model performance is **k-fold cross-validation**. It can be applied even on a small data set. k-fold cross-validation works as follow:\n",
    "\n",
    "1. Randomly split the data set into k-subsets (or k-fold) (for example 5 subsets)\n",
    "2. Reserve one subset and train the model on all other subsets\n",
    "3. Test the model on the reserved subset and record the prediction error\n",
    "4. Repeat this process until each of the k subsets has served as the test set.\n",
    "5. Compute the average of the k recorded errors. This is called the cross-validation error serving as the performance metric for the model."
   ]
  },
  {
   "cell_type": "markdown",
   "metadata": {
    "colab_type": "text",
    "id": "9fukCbeoqA3W"
   },
   "source": [
    "## Mehtod\n",
    "A simple workflow to build to build a predictive regression model is as follow:\n",
    "\n",
    "1. Randomly split your data into training set (80%) and test set (20%)\n",
    "2. Build the regression model using the training set\n",
    "3. Make predictions using the test set and compute the model accuracy metrics"
   ]
  },
  {
   "cell_type": "markdown",
   "metadata": {
    "colab_type": "text",
    "id": "AQTW7GgIqHbo"
   },
   "source": [
    "# Formula\n",
    "The mathematical formula of the linear regression can be written as follow:\n",
    "\n",
    "y = b0 + b1*x + e\n",
    "\n",
    "We read this as “y is modeled as beta1 (b1) times x, plus a constant beta0 (b0), plus an error term e.”\n",
    "\n",
    "When you have multiple predictor variables, the equation can be written as y = b0 + b1*x1 + b2*x2 + ... + bn*xn, where:\n",
    "\n",
    "+ b0 is the intercept,\n",
    "+ b1, b2, …, bn are the regression weights or coefficients associated with the predictors x1, x2, …, xn.\n",
    "+ e is the error term (also known as the residual errors), the part of y that can be explained by the regression model.\n",
    "\n",
    "the figure below illustrates a simple linear regression model, where:\n",
    "\n",
    "![](linear-regression.png)\n",
    "+ the best-fit regression line is in blue\n",
    "+ the intercept (b0) and the slope (b1) are shown in green\n",
    "+ the error terms (e) are represented by vertical red lines\n",
    "\n",
    "From the scatter plot above, it can be seen that not all the data points fall exactly on the fitted regression line. Some of the points are above the blue curve and some are below it; overall, **the residual errors (e) have approximately mean zero**.\n",
    "\n",
    "The sum of the squares of the residual errors are called the **Residual Sum of Squares** or **RSS**.\n",
    "\n",
    "The average variation of points around the fitted regression line is called the **Residual Standard Error (RSE)**. This is one the metrics used to evaluate the overall quality of the fitted regression model. The lower the RSE, the better it is.\n",
    "\n",
    "Since the mean error term is zero, the outcome variable y can be approximately estimated as follow:\n",
    "\n",
    "y ~ b0 + b1*x\n",
    "\n",
    "Mathematically, the beta coefficients (b0 and b1) are determined so that the RSS is as minimal as possible. This method of determining the beta coefficients is technically called **least squares regression** or **ordinary least squares (OLS) regression**.\n",
    "\n",
    "Once, the beta coefficients are calculated, a t-test is performed to check whether or not these coefficients are significantly different from zero. A non-zero beta coefficients means that there is a significant relationship between the predictors (x) and the outcome variable (y).\n"
   ]
  },
  {
   "cell_type": "markdown",
   "metadata": {
    "colab_type": "text",
    "id": "OHpvYAAvYMGv"
   },
   "source": [
    "## Applying marketing dataset"
   ]
  },
  {
   "cell_type": "code",
   "execution_count": 4,
   "metadata": {
    "colab": {
     "base_uri": "https://localhost:8080/",
     "height": 476
    },
    "colab_type": "code",
    "id": "ZyKzh5lpjmNs",
    "outputId": "4b15c1a4-4013-4985-87b4-9f5d69978986"
   },
   "outputs": [
    {
     "name": "stdout",
     "output_type": "stream",
     "text": [
      "                            OLS Regression Results                            \n",
      "==============================================================================\n",
      "Dep. Variable:                  sales   R-squared:                       0.897\n",
      "Model:                            OLS   Adj. R-squared:                  0.896\n",
      "Method:                 Least Squares   F-statistic:                     570.3\n",
      "Date:                Wed, 15 Jul 2020   Prob (F-statistic):           1.58e-96\n",
      "Time:                        12:50:31   Log-Likelihood:                -422.65\n",
      "No. Observations:                 200   AIC:                             853.3\n",
      "Df Residuals:                     196   BIC:                             866.5\n",
      "Df Model:                           3                                         \n",
      "Covariance Type:            nonrobust                                         \n",
      "==============================================================================\n",
      "                 coef    std err          t      P>|t|      [0.025      0.975]\n",
      "------------------------------------------------------------------------------\n",
      "const          3.5267      0.374      9.422      0.000       2.789       4.265\n",
      "youtube        0.0458      0.001     32.809      0.000       0.043       0.049\n",
      "facebook       0.1885      0.009     21.893      0.000       0.172       0.206\n",
      "newspaper     -0.0010      0.006     -0.177      0.860      -0.013       0.011\n",
      "==============================================================================\n",
      "Omnibus:                       60.414   Durbin-Watson:                   2.084\n",
      "Prob(Omnibus):                  0.000   Jarque-Bera (JB):              151.241\n",
      "Skew:                          -1.327   Prob(JB):                     1.44e-33\n",
      "Kurtosis:                       6.332   Cond. No.                         545.\n",
      "==============================================================================\n",
      "\n",
      "Warnings:\n",
      "[1] Standard Errors assume that the covariance matrix of the errors is correctly specified.\n"
     ]
    }
   ],
   "source": [
    "import pandas as pd\n",
    "import statsmodels.api as sm\n",
    "\n",
    "\n",
    "df = pd.read_csv(\"./data/marketing.csv\")\n",
    "# Here we have 2 variables for the multiple linear regression. \n",
    "#  If you just want to use one variable for simple linear regression, then use X = df['Interest_Rate'] for example\n",
    "X = df[['youtube', 'facebook', 'newspaper']] \n",
    "Y = df['sales']\n",
    "\n",
    "X = sm.add_constant(X) # adding a constant\n",
    "\n",
    "model = sm.OLS(Y, X).fit()\n",
    "predictions = model.predict(X) \n",
    "\n",
    "print_model = model.summary()\n",
    "print(print_model)\n",
    "\n"
   ]
  },
  {
   "cell_type": "markdown",
   "metadata": {
    "colab_type": "text",
    "id": "4RRUkebDqMAY"
   },
   "source": [
    "# Understanding summry of model\n",
    "\n",
    "## **model** \n",
    "shows the function call to compute the regression model.\n",
    " \n",
    "## **Residuals** \n",
    "shows the regression beta coefficient and their statistical significant. predictor variable that are significantly associated to the outcome variable are marked by stars.\n",
    " \n",
    "## **Estimate** \n",
    "the intercept b0 and the coefficient estimates associated to each predictor variable\n",
    " \n",
    "## **Std.error**\n",
    " the standard error of the coefficient  estimates. This represents accuracy of the coefficient. the larger the standard error, the less confident we are about the estimate.\n",
    " \n",
    "## **t value**\n",
    "the t-statistic is a coefficient estimate divided by the standard error of the estimate. column 2 / column3\n",
    " \n",
    "## **Pr(>|t|)** \n",
    "corresponding to the t-statistic. the smaller are more significant the estimate is.\n",
    " \n",
    "## **RSS , Residual Sum of Squares** \n",
    "the sum of the squares of the residual errors. RSE or model sigma corresponding to the prediction error. represent roughly the average between observed outcome values and the predicted values by the model. We are looking for lower RSE.\n",
    " \n",
    "## **RSE = Residual Standard Error** \n",
    "the average variation of the points around the fitting regression line (looking for Lower).\n",
    "\n",
    "The RSE (or model sigma), corresponding to the prediction error, represents roughly the average difference between the observed outcome values and the predicted values by the model. The lower the RSE the best the model fits to our data.\n",
    "\n",
    "Dividing the RSE by the average value of the outcome variable will give you the prediction error rate, which should be as small as possible.\n",
    " \n",
    "\n",
    " also known as the model sigma, is a variant of the RMSE adjusted for the number of predictors in the model. The lower the RSE, the better the model. In practice, the difference between RMSE and RSE is very small, particularly for large multivariate data.\n",
    "\n",
    "## **R squared** \n",
    "R-squared is a statistical measure of how close the data are to the fitted regression line. It is also known as the coefficient of determination, or the coefficient of multiple determination for multiple regression.\n",
    " \n",
    "The definition of R-squared is fairly straight-forward; it is the percentage of the response variable variation that is explained by a linear model. Or:\n",
    " \n",
    "R-squared = Explained variation / Total variation\n",
    " \n",
    "R-squared is always between 0 and 100%:\n",
    " \n",
    "   * 0% indicates that the model explains none of the variability of the response data around its mean.\n",
    " \n",
    "   * 100% indicates that the model explains all the variability of the response data around its mean.\n",
    " \n",
    "R2 shows how well the model fits the data. We are looking for higher R Squared.\n",
    " \n",
    "In general, the higher the R-squared, the better the model fits your data. However, there are important conditions for this guideline that I’ll talk about both in this post and my next post.\n",
    " \n",
    " The R-squared (R2) ranges from 0 to 1 and represents the proportion of variation in the outcome variable that can be explained by the model predictor variables.\n",
    "\n",
    "For a simple linear regression, R2 is the square of the Pearson correlation coefficient between the outcome and the predictor variables. In multiple linear regression, the R2 represents the correlation coefficient between the observed outcome values and the predicted values.\n",
    "\n",
    "The R2 measures, how well the model fits the data. The higher the R2, the better the model. However, a problem with the R2, is that, it will always increase when more variables are added to the model, even if those variables are only weakly associated with the outcome (James et al. 2014). A solution is to adjust the R2 by taking into account the number of predictor variables.\n",
    "\n",
    "The adjustment in the “Adjusted R Square” value in the summary output is a correction for the number of x variables included in the predictive model.\n",
    "\n",
    "So, you should mainly consider the adjusted R-squared, which is a penalized R2 for a higher number of predictors.\n",
    "\n",
    "An (adjusted) R2 that is close to 1 indicates that a large proportion of the variability in the outcome has been explained by the regression model.\n",
    "A number near 0 indicates that the regression model did not explain much of the variability in the outcome.\n",
    "\n",
    "\n",
    "R-squared (R2), which is the proportion of variation in the outcome that is explained by the predictor variables. In multiple regression models, R2 corresponds to the squared correlation between the observed outcome values and the predicted values by the model. The Higher the R-squared, the better the model.\n",
    "\n",
    "## **F-statistic** \n",
    "An F statistic is a value you get when you run an ANOVA test or a regression analysis to find out if the means between two populations are significantly different.\n",
    "F-statistic gives the overall significance of the model. it assess at least one predictor variable has a non-zero coefficient.\n",
    "\n",
    "Recall that, the F-statistic gives the overall significance of the model. It assess whether at least one predictor variable has a non-zero coefficient.\n",
    "\n",
    "In a simple linear regression, this test is not really interesting since it just duplicates the information given by the t-test, available in the coefficient table.\n",
    "\n",
    "The F-statistic becomes more important once we start using multiple predictors as in multiple linear regression.\n",
    "\n",
    "\n",
    "**It would be very useful for multiple linear regression.**\n",
    " \n",
    " \n",
    " \n",
    "## **Adjusted R-squared** \n",
    "The summary output is a correction for the number of x variables included in the predictive model which penalizes R2 for a higher number of predictors.\n",
    "if 1 -> the variability in the outcome has been explained by the regression model.\n",
    " \n",
    "if 0 -> the variability in the outcome has **not** been explained by the regression model.\n",
    "\n",
    "## **Root Mean Squared Error (RMSE)**, \n",
    "which measures the average error performed by the model in predicting the outcome for an observation. Mathematically, the RMSE is the square root of the mean squared error (MSE), which is the average squared difference between the observed actual outome values and the values predicted by the model. So, MSE = mean((observeds - predicteds)^2) and RMSE = sqrt(MSE). The lower the RMSE, the better the model.\n",
    "\n",
    "## **Mean Absolute Error (MAE)**, \n",
    "like the RMSE, the MAE measures the prediction error. Mathematically, it is the average absolute difference between observed and predicted outcomes, MAE = mean(abs(observeds - predicteds)). MAE is less sensitive to outliers compared to RMSE."
   ]
  },
  {
   "cell_type": "markdown",
   "metadata": {
    "colab_type": "text",
    "id": "MkW6jSO2LtSl"
   },
   "source": [
    "## Making predictions\n",
    "We’ll make predictions using the test data in order to evaluate the performance of our regression model.\n",
    "\n",
    "The procedure is as follow:\n",
    "\n",
    "1. Predict the sales values based on new advertising budgets in the test data\n",
    "2. Assess the model performance by computing:\n",
    "    \n",
    "    2.1. The prediction error RMSE (Root Mean Squared Error), representing the average difference between the observed known outcome values in the test data and the predicted outcome values by the model. The lower the RMSE, the better the model.\n",
    "    \n",
    "    2.2. The R-square (R2), representing the correlation between the observed outcome values and the predicted outcome values. The higher the R2, the better the model.\n",
    "    \n",
    "    \n",
    "# Model performance metrics\n",
    "In regression model, the most commonly known evaluation metrics include:\n",
    "\n",
    "**R-squared (R2)**, which is the proportion of variation in the outcome that is explained by the predictor variables. In multiple regression models, R2 corresponds to the squared correlation between the observed outcome values and the predicted values by the model. The Higher the R-squared, the better the model.\n",
    "\n",
    "**Root Mean Squared Error (RMSE)**, which measures the average error performed by the model in predicting the outcome for an observation. Mathematically, the RMSE is the square root of the mean squared error (MSE), which is the average squared difference between the observed actual outome values and the values predicted by the model. So, MSE = mean((observeds - predicteds)^2) and RMSE = sqrt(MSE). The lower the RMSE, the better the model.\n",
    "\n",
    "**Residual Standard Error (RSE)**, also known as the model sigma, is a variant of the RMSE adjusted for the number of predictors in the model. The lower the RSE, the better the model. In practice, the difference between RMSE and RSE is very small, particularly for large multivariate data.\n",
    "\n",
    "**Mean Absolute Error (MAE)**, like the RMSE, the MAE measures the prediction error. Mathematically, it is the average absolute difference between observed and predicted outcomes, MAE = mean(abs(observeds - predicteds)). MAE is less sensitive to outliers compared to RMSE.\n",
    "\n",
    "The problem with the above metrics, is that they are sensible to the inclusion of additional variables in the model, even if those variables dont have significant contribution in explaining the outcome. Put in other words, including additional variables in the model will always increase the R2 and reduce the RMSE. So, we need a more robust metric to guide the model choice.\n",
    "\n",
    "**Adjusted R-squared**, Concerning R2, there is an adjusted version, called Adjusted R-squared, which adjusts the R2 for having too many variables in the model.\n",
    "\n",
    "Additionally, there are four other important metrics - AIC, AICc, BIC and Mallows Cp - that are commonly used for model evaluation and selection. These are an unbiased estimate of the model prediction error MSE. The lower these metrics, he better the model.\n",
    "\n",
    "**AIC stands for (Akaike’s Information Criteria)**, a metric developped by the Japanese Statistician, Hirotugu Akaike, 1970. The basic idea of AIC is to penalize the inclusion of additional variables to a model. It adds a penalty that increases the error when including additional terms. The lower the AIC, the better the model.\n",
    "AICc is a version of AIC corrected for small sample sizes.\n",
    "\n",
    "**BIC (or Bayesian information criteria)** is a variant of AIC with a stronger penalty for including additional variables to the model.\n",
    "\n",
    "**Mallows Cp**: A variant of AIC developed by Colin Mallows.\n",
    "\n",
    "    \n",
    "## Generally, the most commonly used metrics, for measuring regression model quality and for comparing models, are: Adjusted R2, AIC, BIC and Cp."
   ]
  },
  {
   "cell_type": "markdown",
   "metadata": {
    "colab_type": "text",
    "id": "g0G_OOPfnWfu"
   },
   "source": [
    "## R2 is very great.\n",
    "\n",
    "RMSE is 1.58, representing an error rate of \n",
    "\n",
    "\n",
    "1. [MAE] ≤ [RMSE]. The RMSE result will always be larger or equal to the MAE. If all of the errors have the same magnitude, then RMSE=MAE.\n",
    "\n",
    "2. [RMSE] ≤ [MAE * sqrt(n)], where n is the number of test samples. The difference between RMSE and MAE is greatest when all of the prediction error comes from a single test sample. The squared error then equals to [MAE^2 * n] for that single test sample and 0 for all other samples. Taking the square root, RMSE then equals to [MAE * sqrt(n)]."
   ]
  },
  {
   "cell_type": "markdown",
   "metadata": {
    "colab_type": "text",
    "id": "yp2WJBnXnjCe"
   },
   "source": [
    "# Simple Linear regression\n",
    "\n",
    "The simple linear regression is used to predict a continuous outcome variable (y) based on one single predictor variable (x).\n",
    "\n",
    "In the following example, we’ll build a simple linear model to predict sales units based on the advertising budget spent on youtube. The regression equation can be written as sales = b0 + b1*youtube.\n",
    "\n",
    "The R function lm() can be used to determine the beta coefficients of the linear model, as follow:"
   ]
  },
  {
   "cell_type": "code",
   "execution_count": 7,
   "metadata": {
    "colab": {
     "base_uri": "https://localhost:8080/",
     "height": 442
    },
    "colab_type": "code",
    "id": "pI34VUEiuVRr",
    "outputId": "ef780f5f-b2cc-48fc-8a0f-01e68979054a"
   },
   "outputs": [
    {
     "name": "stdout",
     "output_type": "stream",
     "text": [
      "                            OLS Regression Results                            \n",
      "==============================================================================\n",
      "Dep. Variable:                  sales   R-squared:                       0.612\n",
      "Model:                            OLS   Adj. R-squared:                  0.610\n",
      "Method:                 Least Squares   F-statistic:                     312.1\n",
      "Date:                Wed, 15 Jul 2020   Prob (F-statistic):           1.47e-42\n",
      "Time:                        12:51:33   Log-Likelihood:                -555.51\n",
      "No. Observations:                 200   AIC:                             1115.\n",
      "Df Residuals:                     198   BIC:                             1122.\n",
      "Df Model:                           1                                         \n",
      "Covariance Type:            nonrobust                                         \n",
      "==============================================================================\n",
      "                 coef    std err          t      P>|t|      [0.025      0.975]\n",
      "------------------------------------------------------------------------------\n",
      "const          8.4391      0.549     15.360      0.000       7.356       9.523\n",
      "youtube        0.0475      0.003     17.668      0.000       0.042       0.053\n",
      "==============================================================================\n",
      "Omnibus:                        0.531   Durbin-Watson:                   1.935\n",
      "Prob(Omnibus):                  0.767   Jarque-Bera (JB):                0.669\n",
      "Skew:                          -0.089   Prob(JB):                        0.716\n",
      "Kurtosis:                       2.779   Cond. No.                         406.\n",
      "==============================================================================\n",
      "\n",
      "Warnings:\n",
      "[1] Standard Errors assume that the covariance matrix of the errors is correctly specified.\n"
     ]
    }
   ],
   "source": [
    "import pandas as pd\n",
    "import statsmodels.api as sm\n",
    "\n",
    "\n",
    "df = pd.read_csv(\"./data/marketing.csv\" )\n",
    "X = df[['youtube']] # here we have 2 variables for the multiple linear regression. If you just want to use one variable for simple linear regression, then use X = df['Interest_Rate'] for example\n",
    "Y = df['sales']\n",
    "\n",
    "X = sm.add_constant(X) # adding a constant\n",
    "\n",
    "model = sm.OLS(Y, X).fit()\n",
    "predictions = model.predict(X) \n",
    "\n",
    "print(model.summary())\n",
    "\n"
   ]
  },
  {
   "cell_type": "markdown",
   "metadata": {},
   "source": [
    "## Coefficients significance\n",
    "\n",
    "\n",
    "The coefficients table, in the model statistical summary, shows:\n",
    "\n",
    "the estimates of the beta coefficients\n",
    "the standard errors (SE), which defines the accuracy of beta coefficients. For a given beta coefficient, the SE reflects how the coefficient varies under repeated sampling. It can be used to compute the confidence intervals and the t-statistic.\n",
    "the t-statistic and the associated p-value, which defines the statistical significance of the beta coefficients.\n",
    "\n",
    "\n",
    "\n",
    "## t-statistic and p-values:\n",
    "\n",
    "For a given predictor, the t-statistic (and its associated p-value) tests whether or not there is a statistically significant relationship between a given predictor and the outcome variable, that is whether or not the beta coefficient of the predictor is significantly different from zero.\n",
    "\n",
    "The statistical hypotheses are as follow:\n",
    "\n",
    "Null hypothesis (H0): the coefficients are equal to zero (i.e., no relationship between x and y)\n",
    "Alternative Hypothesis (Ha): the coefficients are not equal to zero (i.e., there is some relationship between x and y)\n",
    "Mathematically, for a given beta coefficient (b), the t-test is computed as t = (b - 0)/SE(b), where SE(b) is the standard error of the coefficient b. The t-statistic measures the number of standard deviations that b is away from 0. Thus a large t-statistic will produce a small p-value.\n",
    "\n",
    "The higher the t-statistic (and the lower the p-value), the more significant the predictor. The symbols to the right visually specifies the level of significance. The line below the table shows the definition of these symbols; one star means 0.01 < p < 0.05. The more the stars beside the variable’s p-value, the more significant the variable.\n",
    "\n",
    "A statistically significant coefficient indicates that there is an association between the predictor (x) and the outcome (y) variable."
   ]
  },
  {
   "cell_type": "code",
   "execution_count": 8,
   "metadata": {
    "colab": {
     "base_uri": "https://localhost:8080/",
     "height": 136
    },
    "colab_type": "code",
    "id": "3Yl1bTXQnvp2",
    "outputId": "8a821e3a-af74-4c59-fccc-7eed480ace95"
   },
   "outputs": [
    {
     "name": "stdout",
     "output_type": "stream",
     "text": [
      "Parameters:  const      8.439112\n",
      "youtube    0.047537\n",
      "dtype: float64\n",
      "R2:  0.611875050850071\n",
      "Pvalues:  const      1.406300e-35\n",
      "youtube    1.467390e-42\n",
      "dtype: float64\n"
     ]
    }
   ],
   "source": [
    "print('Parameters: ', model.params)\n",
    "print('R2: ', model.rsquared)\n",
    "print('Pvalues: ', model.pvalues)"
   ]
  },
  {
   "cell_type": "markdown",
   "metadata": {
    "colab_type": "text",
    "id": "5LKjWueY1Wwd"
   },
   "source": [
    "## Another example with sklearn"
   ]
  },
  {
   "cell_type": "code",
   "execution_count": 9,
   "metadata": {
    "colab": {
     "base_uri": "https://localhost:8080/",
     "height": 170
    },
    "colab_type": "code",
    "id": "xnvhAtlugOe4",
    "outputId": "9d0b6075-1d47-4cae-827f-9f8cd8765d37"
   },
   "outputs": [
    {
     "name": "stdout",
     "output_type": "stream",
     "text": [
      "          youtube    facebook   newspaper       sales\n",
      "count  200.000000  200.000000  200.000000  200.000000\n",
      "mean   176.451000   27.916800   36.664800   16.827000\n",
      "std    103.025084   17.816171   26.134345    6.260948\n",
      "min      0.840000    0.000000    0.360000    1.920000\n",
      "25%     89.250000   11.970000   15.300000   12.450000\n",
      "50%    179.700000   27.480000   30.900000   15.480000\n",
      "75%    262.590000   43.830000   54.120000   20.880000\n",
      "max    355.680000   59.520000  136.800000   32.400000\n",
      "<class 'pandas.core.frame.DataFrame'>\n",
      "Int64Index: 200 entries, 115 to 96\n",
      "Data columns (total 4 columns):\n",
      " #   Column     Non-Null Count  Dtype  \n",
      "---  ------     --------------  -----  \n",
      " 0   youtube    200 non-null    float64\n",
      " 1   facebook   200 non-null    float64\n",
      " 2   newspaper  200 non-null    float64\n",
      " 3   sales      200 non-null    float64\n",
      "dtypes: float64(4)\n",
      "memory usage: 7.8 KB\n",
      "None\n"
     ]
    }
   ],
   "source": [
    "import pandas as pd  \n",
    "import numpy as np  \n",
    "import matplotlib.pyplot as plt  \n",
    "from sklearn.utils import shuffle\n",
    "\n",
    "import seaborn as seabornInstance \n",
    "from sklearn.model_selection import train_test_split \n",
    "from sklearn.linear_model import LinearRegression\n",
    "from sklearn import metrics\n",
    "%matplotlib inline\n",
    "dataset = pd.read_csv('./data/marketing.csv' )\n",
    "dataset = shuffle(dataset)\n",
    "print(dataset.describe())\n",
    "print(dataset.info())"
   ]
  },
  {
   "cell_type": "code",
   "execution_count": 10,
   "metadata": {
    "colab": {
     "base_uri": "https://localhost:8080/",
     "height": 901
    },
    "colab_type": "code",
    "id": "RJOso4AQgUEi",
    "outputId": "9a6abd91-de5a-46a9-9586-439c7a3b4d31"
   },
   "outputs": [
    {
     "data": {
      "image/png": "[encoded data removed]",
      "text/plain": [
       "<Figure size 432x288 with 1 Axes>"
      ]
     },
     "metadata": {
      "needs_background": "light"
     },
     "output_type": "display_data"
    },
    {
     "data": {
      "text/plain": [
       "<matplotlib.axes._subplots.AxesSubplot at 0x7fbc2f193590>"
      ]
     },
     "execution_count": 10,
     "metadata": {},
     "output_type": "execute_result"
    },
    {
     "data": {
      "image/png": "[encoded data removed]",
      "text/plain": [
       "<Figure size 1080x720 with 1 Axes>"
      ]
     },
     "metadata": {
      "needs_background": "light"
     },
     "output_type": "display_data"
    }
   ],
   "source": [
    "## visualize dataset\n",
    "dataset.plot(x='youtube', y='sales', style='o')  \n",
    "plt.title('youtube vs sales')  \n",
    "plt.xlabel('youtube')  \n",
    "plt.ylabel('sales')  \n",
    "plt.show()\n",
    "\n",
    "\n",
    "plt.figure(figsize=(15,10))\n",
    "plt.tight_layout()\n",
    "seabornInstance.distplot(dataset['sales'])"
   ]
  },
  {
   "cell_type": "markdown",
   "metadata": {
    "colab_type": "text",
    "id": "hRU4IAfigZfs"
   },
   "source": [
    "## Split data and fit model"
   ]
  },
  {
   "cell_type": "code",
   "execution_count": 11,
   "metadata": {
    "colab": {
     "base_uri": "https://localhost:8080/",
     "height": 51
    },
    "colab_type": "code",
    "id": "1_J1NeVqgbQm",
    "outputId": "4a540d1c-a819-4885-b386-1da4df58fe22"
   },
   "outputs": [
    {
     "name": "stdout",
     "output_type": "stream",
     "text": [
      "To retrieve the intercept:  [8.6367512]\n",
      "For retrieving the slope:  [[0.04573473]]\n"
     ]
    }
   ],
   "source": [
    "X = dataset['youtube'].values.reshape(-1,1)\n",
    "y = dataset['sales'].values.reshape(-1,1)\n",
    "X_train, X_test, y_train, y_test = train_test_split(X, y, test_size=0.2, random_state=0)\n",
    "regressor = LinearRegression().fit(X_train, y_train) #training the algorithm\n",
    "#To retrieve the intercept:\n",
    "print(\"To retrieve the intercept: \" , regressor.intercept_)\n",
    "#For retrieving the slope:\n",
    "print(\"For retrieving the slope: \" , regressor.coef_)\n"
   ]
  },
  {
   "cell_type": "markdown",
   "metadata": {},
   "source": [
    "# K-fold cross-validation\n",
    "\n",
    "R2, RMSE and MAE are used to measure the regression model performance during cross-validation.\n",
    "\n",
    "\n",
    "# Cross-validation methods\n",
    "\n",
    "Briefly, cross-validation algorithms can be summarized as follow:\n",
    "\n",
    "1. Reserve a small sample of the data set\n",
    "2. Build (or train) the model using the remaining part of the data set\n",
    "3. Test the effectiveness of the model on the the reserved sample of the data set. If the model works well on the test data set, then it’s good.\n",
    "\n",
    "The k-fold cross-validation method evaluates the model performance on different subset of the training data and then calculate the average prediction error rate. The algorithm is as follow:\n",
    "\n",
    "1. Randomly split the data set into k-subsets (or k-fold) (for example 5 subsets)\n",
    "2. Reserve one subset and train the model on all other subsets\n",
    "3. Test the model on the reserved subset and record the prediction error\n",
    "4. Repeat this process until each of the k subsets has served as the test set.\n",
    "5. Compute the average of the k recorded errors. This is called the cross-validation error serving as the performance metric for the model.\n",
    "\n",
    "K-fold cross-validation (CV) is a robust method for estimating the accuracy of a model.\n",
    "\n",
    "The most obvious advantage of k-fold CV compared to LOOCV is computational. A less obvious but potentially more important advantage of k-fold CV is that it often gives more accurate estimates of the test error rate than does LOOCV (James et al. 2014).\n",
    "\n",
    "## Typical question, is how to choose right value of k?\n",
    "\n",
    "Lower value of K is more biased and hence undesirable. On the other hand, higher value of K is less biased, but can suffer from large variability. It is not hard to see that a smaller value of k (say k = 2) always takes us towards validation set approach, whereas a higher value of k (say k = number of data points) leads us to LOOCV approach.\n",
    "\n",
    "In practice, one typically performs k-fold cross-validation using k = 5 or k = 10, as these values have been shown empirically to yield test error rate estimates that suffer neither from excessively high bias nor from very high variance.\n",
    "\n",
    "![](5-cv.png)"
   ]
  },
  {
   "cell_type": "code",
   "execution_count": 12,
   "metadata": {},
   "outputs": [
    {
     "data": {
      "text/plain": [
       "array([0.57951032, 0.6490886 , 0.60710243, 0.51479669, 0.36421466])"
      ]
     },
     "execution_count": 12,
     "metadata": {},
     "output_type": "execute_result"
    }
   ],
   "source": [
    "from sklearn.model_selection import cross_val_score\n",
    "cross_val_score(regressor, X_train, y_train, cv=5)"
   ]
  },
  {
   "cell_type": "markdown",
   "metadata": {},
   "source": [
    "# Bootstrap Resampling \n",
    "\n",
    "Similarly to cross-validation techniques , the bootstrap resampling method can be used to measure the accuracy of a predictive model. Additionally, it can be used to measure the uncertainty associated with any statistical estimator.\n",
    "\n",
    "Bootstrap resampling consists of repeatedly selecting a sample of n observations from the original data set, and to evaluate the model on each copy. An average standard error is then calculated and the results provide an indication of the overall variance of the model performance.\n",
    "\n",
    "This chapter describes the basics of bootstrapping and provides practical examples in R for computing a model prediction error. Additionally, we’ll show you how to compute an estimator uncertainty using bootstrap techniques."
   ]
  },
  {
   "cell_type": "code",
   "execution_count": 13,
   "metadata": {
    "colab": {
     "base_uri": "https://localhost:8080/",
     "height": 204
    },
    "colab_type": "code",
    "id": "y9qUXAHugjvh",
    "outputId": "d5c502e3-b6b8-4e33-e14b-7ade893f7fbb"
   },
   "outputs": [
    {
     "data": {
      "text/html": [
       "<div>\n",
       "<style scoped>\n",
       "    .dataframe tbody tr th:only-of-type {\n",
       "        vertical-align: middle;\n",
       "    }\n",
       "\n",
       "    .dataframe tbody tr th {\n",
       "        vertical-align: top;\n",
       "    }\n",
       "\n",
       "    .dataframe thead th {\n",
       "        text-align: right;\n",
       "    }\n",
       "</style>\n",
       "<table border=\"1\" class=\"dataframe\">\n",
       "  <thead>\n",
       "    <tr style=\"text-align: right;\">\n",
       "      <th></th>\n",
       "      <th>Actual</th>\n",
       "      <th>Predicted</th>\n",
       "    </tr>\n",
       "  </thead>\n",
       "  <tbody>\n",
       "    <tr>\n",
       "      <th>0</th>\n",
       "      <td>22.08</td>\n",
       "      <td>20.200320</td>\n",
       "    </tr>\n",
       "    <tr>\n",
       "      <th>1</th>\n",
       "      <td>17.76</td>\n",
       "      <td>21.105868</td>\n",
       "    </tr>\n",
       "    <tr>\n",
       "      <th>2</th>\n",
       "      <td>17.40</td>\n",
       "      <td>17.664787</td>\n",
       "    </tr>\n",
       "    <tr>\n",
       "      <th>3</th>\n",
       "      <td>17.88</td>\n",
       "      <td>18.976459</td>\n",
       "    </tr>\n",
       "    <tr>\n",
       "      <th>4</th>\n",
       "      <td>15.36</td>\n",
       "      <td>24.590854</td>\n",
       "    </tr>\n",
       "  </tbody>\n",
       "</table>\n",
       "</div>"
      ],
      "text/plain": [
       "   Actual  Predicted\n",
       "0   22.08  20.200320\n",
       "1   17.76  21.105868\n",
       "2   17.40  17.664787\n",
       "3   17.88  18.976459\n",
       "4   15.36  24.590854"
      ]
     },
     "execution_count": 13,
     "metadata": {},
     "output_type": "execute_result"
    }
   ],
   "source": [
    "y_pred = regressor.predict(X_test)\n",
    "df = pd.DataFrame({'Actual': y_test.flatten(), 'Predicted': y_pred.flatten()})\n",
    "df.head(5)"
   ]
  },
  {
   "cell_type": "code",
   "execution_count": 9,
   "metadata": {
    "colab": {
     "base_uri": "https://localhost:8080/",
     "height": 594
    },
    "colab_type": "code",
    "id": "lkPf_UG3gl-f",
    "outputId": "e0abb5ac-0da9-4af1-c79f-2c43ce934975"
   },
   "outputs": [
    {
     "data": {
      "image/png": "[encoded data removed]",
      "text/plain": [
       "<Figure size 1152x720 with 1 Axes>"
      ]
     },
     "metadata": {
      "needs_background": "light"
     },
     "output_type": "display_data"
    }
   ],
   "source": [
    "# Vizulize\n",
    "df1 = df.head(25)\n",
    "df1.plot(kind='bar',figsize=(16,10))\n",
    "plt.grid(which='major', linestyle='-', linewidth='0.5', color='green')\n",
    "plt.grid(which='minor', linestyle=':', linewidth='0.5', color='black')\n",
    "plt.show()"
   ]
  },
  {
   "cell_type": "code",
   "execution_count": 10,
   "metadata": {
    "colab": {
     "base_uri": "https://localhost:8080/",
     "height": 265
    },
    "colab_type": "code",
    "id": "rlztaPr9gn9d",
    "outputId": "024bdf8d-096f-461b-9954-9a7bfbb04a71"
   },
   "outputs": [
    {
     "data": {
      "image/png": "[encoded data removed]",
      "text/plain": [
       "<Figure size 432x288 with 1 Axes>"
      ]
     },
     "metadata": {
      "needs_background": "light"
     },
     "output_type": "display_data"
    }
   ],
   "source": [
    "# on scatter\n",
    "plt.scatter(X_test, y_test,  color='gray')\n",
    "plt.plot(X_test, y_pred, color='red', linewidth=2)\n",
    "plt.show()\n"
   ]
  },
  {
   "cell_type": "code",
   "execution_count": 11,
   "metadata": {},
   "outputs": [
    {
     "name": "stdout",
     "output_type": "stream",
     "text": [
      "Mean Absolute Error: 3.028942833087398\n",
      "Mean Squared Error: 15.529059302966383\n",
      "Root Mean Squared Error: 3.940692744044679\n"
     ]
    }
   ],
   "source": [
    "# show metrics\n",
    "print('Mean Absolute Error:', metrics.mean_absolute_error(y_test, y_pred))  \n",
    "print('Mean Squared Error:', metrics.mean_squared_error(y_test, y_pred))  \n",
    "print('Root Mean Squared Error:', np.sqrt(metrics.mean_squared_error(y_test, y_pred)))"
   ]
  },
  {
   "cell_type": "markdown",
   "metadata": {
    "colab_type": "text",
    "id": "oAtjdYN5LByM"
   },
   "source": [
    "For a given predictor variable, the coefficient (b) can be interpreted as the average effect on y of a one unit increase in predictor, holding all other predictors fixed.\n",
    "\n",
    "For example, for a fixed amount of youtube and newspaper advertising budget, spending an additional 1 000 dollars on facebook advertising leads to an increase in sales by approximately 0.1885*1000 = 189 sale units, on average.\n",
    "\n",
    "The youtube coefficient suggests that for every 1 000 dollars increase in youtube advertising budget, holding all other predictors constant, we can expect an increase of 0.045*1000 = 45 sales units, on average.\n",
    "\n",
    "We found that newspaper is not significant in the multiple regression model. This means that, for a fixed amount of youtube and newspaper advertising budget, changes in the newspaper advertising budget will not significantly affect sales units.\n",
    "\n",
    "As the newspaper variable is not significant, it is possible to remove it fro"
   ]
  },
  {
   "cell_type": "markdown",
   "metadata": {
    "colab_type": "text",
    "id": "gj8Ro5nio6qP"
   },
   "source": [
    "The output above shows the estimate of the regression beta coefficients (column Estimate) and their significance levels (column Pr(>|t|). The intercept (b0) is 8.38 and the coefficient of youtube variable is 0.046.\n",
    "\n",
    "The estimated regression equation can be written as follow: sales = 8.38 + 0.046*youtube. Using this formula, for each new youtube advertising budget, you can predict the number of sale units.\n",
    "\n",
    "For example:\n",
    "\n",
    "For a youtube advertising budget equal zero, we can expect a sale of 8.38 units.\n",
    "For a youtube advertising budget equal 1000, we can expect a sale of 8.38 + 0.046*1000 = 55 units.\n",
    "\n",
    "Predictions can be easily made using the R function predict(). In the following example, we predict sales units for two youtube advertising budget: 0 and 1000."
   ]
  },
  {
   "cell_type": "markdown",
   "metadata": {
    "colab_type": "text",
    "id": "mXaSjcZvU4jB"
   },
   "source": [
    "## Summary\n",
    "After computing a regression model, a first step is to check whether, at least, one predictor is significantly associated with outcome variables.\n",
    "\n",
    "If one or more predictors are significant, the second step is to assess how well the model fits the data by inspecting the Residuals Standard Error (RSE), the R2 value and the F-statistics. These metrics give the overall quality of the model."
   ]
  },
  {
   "cell_type": "markdown",
   "metadata": {
    "colab_type": "text",
    "id": "reJXRLQEpbH5"
   },
   "source": [
    "# Multiple Linear Regression\n",
    "\n",
    "sales = b0 + b1 * youtube  + b2 * facebook + b3 * newspaper + e\n",
    "\n",
    "\n",
    "Multiple linear regression is an extension of simple linear regression for predicting an outcome variable (y) on the basis of multiple distinct predictor variables (x).\n",
    "\n",
    "For example, with three predictor variables (x), the prediction of y is expressed by the following equation: y = b0 + b1*x1 + b2*x2 + b3*x3\n",
    "\n",
    "The regression beta coefficients measure the association between each predictor variable and the outcome. “b_j” can be interpreted as the average effect on y of a one unit increase in “x_j”, holding all other predictors fixed.\n",
    "\n",
    "In this section, we’ll build a multiple regression model to predict sales based on the budget invested in three advertising medias: youtube, facebook and newspaper. The formula is as follow: sales = b0 + b1*youtube + b2*facebook + b3*newspaper\n",
    "\n",
    "You can compute the multiple regression model coefficients in R as follow:"
   ]
  },
  {
   "cell_type": "code",
   "execution_count": 12,
   "metadata": {
    "colab": {
     "base_uri": "https://localhost:8080/",
     "height": 1000
    },
    "colab_type": "code",
    "id": "Xt2zUZh7gwnf",
    "outputId": "afe0c8f9-325e-4739-ad05-ea6260a33df6"
   },
   "outputs": [
    {
     "name": "stdout",
     "output_type": "stream",
     "text": [
      "          youtube    facebook   newspaper       sales\n",
      "count  200.000000  200.000000  200.000000  200.000000\n",
      "mean   176.451000   27.916800   36.664800   16.827000\n",
      "std    103.025084   17.816171   26.134345    6.260948\n",
      "min      0.840000    0.000000    0.360000    1.920000\n",
      "25%     89.250000   11.970000   15.300000   12.450000\n",
      "50%    179.700000   27.480000   30.900000   15.480000\n",
      "75%    262.590000   43.830000   54.120000   20.880000\n",
      "max    355.680000   59.520000  136.800000   32.400000\n"
     ]
    },
    {
     "data": {
      "image/png": "[encoded data removed]",
      "text/plain": [
       "<Figure size 432x288 with 1 Axes>"
      ]
     },
     "metadata": {
      "needs_background": "light"
     },
     "output_type": "display_data"
    },
    {
     "data": {
      "image/png": "[encoded data removed]",
      "text/plain": [
       "<Figure size 1080x720 with 1 Axes>"
      ]
     },
     "metadata": {
      "needs_background": "light"
     },
     "output_type": "display_data"
    }
   ],
   "source": [
    "import pandas as pd  \n",
    "import numpy as np  \n",
    "import matplotlib.pyplot as plt  \n",
    "import seaborn as seabornInstance \n",
    "from sklearn.model_selection import train_test_split \n",
    "from sklearn.linear_model import LinearRegression\n",
    "from sklearn import metrics\n",
    "%matplotlib inline\n",
    "dataset = pd.read_csv('data/marketing.csv' , index_col='Unnamed: 0' )\n",
    "print(dataset.describe())\n",
    "\n",
    "## visualize dataset\n",
    "dataset.plot(x='youtube', y='sales', style='o')  \n",
    "plt.title('youtube vs sales')  \n",
    "plt.xlabel('youtube')  \n",
    "plt.ylabel('sales')  \n",
    "plt.show()\n",
    "plt.figure(figsize=(15,10))\n",
    "plt.tight_layout()\n",
    "seabornInstance.distplot(dataset['sales'])\n",
    "\n",
    "dataset.isnull().any()\n",
    "dataset = dataset.fillna(method='ffill')"
   ]
  },
  {
   "cell_type": "code",
   "execution_count": 13,
   "metadata": {
    "colab": {
     "base_uri": "https://localhost:8080/",
     "height": 51
    },
    "colab_type": "code",
    "id": "8XQA-4sXgz3v",
    "outputId": "aa2805f1-8eee-423c-f4f9-d3f0de6f6c07"
   },
   "outputs": [
    {
     "name": "stdout",
     "output_type": "stream",
     "text": [
      "To retrieve the intercept:  [3.59387164]\n",
      "For retrieving the slope:  [[ 0.04458402  0.19649703 -0.00278146]]\n"
     ]
    }
   ],
   "source": [
    "\n",
    "# split data\n",
    "X = dataset[['youtube' , 'facebook' , 'newspaper']].values\n",
    "y = dataset[['sales']].values\n",
    "\n",
    "X_train, X_test, y_train, y_test = train_test_split(X, y, test_size=0.2, random_state=0)\n",
    "regressor = LinearRegression().fit(X_train, y_train) #training the algorithm\n",
    "\n",
    "#To retrieve the intercept:\n",
    "print(\"To retrieve the intercept: \" , regressor.intercept_)\n",
    "#For retrieving the slope:\n",
    "print(\"For retrieving the slope: \" , regressor.coef_)\n"
   ]
  },
  {
   "cell_type": "code",
   "execution_count": 14,
   "metadata": {
    "colab": {
     "base_uri": "https://localhost:8080/",
     "height": 204
    },
    "colab_type": "code",
    "id": "0DZwXl_rg2cV",
    "outputId": "15b4cc03-397b-4352-c532-3f2a3e8752b1"
   },
   "outputs": [
    {
     "name": "stdout",
     "output_type": "stream",
     "text": [
      "   Actual  Predicted\n",
      "0   13.56  12.068875\n",
      "1   10.08   8.942737\n",
      "2   10.44   8.423649\n",
      "3   30.48  28.896357\n",
      "4   14.04  14.421435\n",
      "5   10.44   7.845526\n",
      "6    8.64  15.339443\n",
      "7   15.84  18.131695\n",
      "8   11.04  12.923688\n",
      "9   19.92  19.612295\n"
     ]
    }
   ],
   "source": [
    "y_pred = regressor.predict(X_test)\n",
    "df = pd.DataFrame({'Actual': y_test.flatten(), 'Predicted': y_pred.flatten()})\n",
    "print(df.head(10))"
   ]
  },
  {
   "cell_type": "code",
   "execution_count": 15,
   "metadata": {
    "colab": {
     "base_uri": "https://localhost:8080/",
     "height": 594
    },
    "colab_type": "code",
    "id": "DU-FUv2Fx8Dq",
    "outputId": "0892afcc-5bde-4d2c-96b2-c64bed4c2dac"
   },
   "outputs": [
    {
     "data": {
      "image/png": "[encoded data removed]",
      "text/plain": [
       "<Figure size 1152x720 with 1 Axes>"
      ]
     },
     "metadata": {
      "needs_background": "light"
     },
     "output_type": "display_data"
    }
   ],
   "source": [
    "# Vizulize\n",
    "df1 = df.head(25)\n",
    "df1.plot(kind='bar',figsize=(16,10))\n",
    "plt.grid(which='major', linestyle='-', linewidth='0.5', color='green')\n",
    "plt.grid(which='minor', linestyle=':', linewidth='0.5', color='black')\n",
    "plt.show()"
   ]
  },
  {
   "cell_type": "code",
   "execution_count": 16,
   "metadata": {
    "colab": {
     "base_uri": "https://localhost:8080/",
     "height": 102
    },
    "colab_type": "code",
    "id": "L3aHA6CO7f3H",
    "outputId": "dbe4bb1e-2fa1-4b35-d535-e069ea35b3fe"
   },
   "outputs": [
    {
     "name": "stdout",
     "output_type": "stream",
     "text": [
      "Mean Absolute Error: 1.6341376202508333\n",
      "Mean Squared Error: 6.339050339687548\n",
      "Root Mean Squared Error: 2.5177470761948166\n",
      "R Score 0.9067114990146382\n",
      "An error rate:  0.15843855491755185\n"
     ]
    }
   ],
   "source": [
    "print('Mean Absolute Error:', metrics.mean_absolute_error(y_test, y_pred))  \n",
    "print('Mean Squared Error:', metrics.mean_squared_error(y_test, y_pred))  \n",
    "print('Root Mean Squared Error:', np.sqrt(metrics.mean_squared_error(y_test, y_pred)))\n",
    "print(\"R Score\" , regressor.score(X_train, y_train)) \n",
    "print(\"An error rate: \" ,np.sqrt(metrics.mean_squared_error(y_test, y_pred)) / np.mean(y_test))"
   ]
  },
  {
   "cell_type": "markdown",
   "metadata": {
    "colab_type": "text",
    "id": "6s-lqkkNg6K1"
   },
   "source": [
    "## Apply statsmodels"
   ]
  },
  {
   "cell_type": "code",
   "execution_count": 17,
   "metadata": {
    "colab": {
     "base_uri": "https://localhost:8080/",
     "height": 476
    },
    "colab_type": "code",
    "id": "9LEXTcTF2iSY",
    "outputId": "ef1576b3-9b76-461d-dba3-b39c1844a984"
   },
   "outputs": [
    {
     "name": "stdout",
     "output_type": "stream",
     "text": [
      "                            OLS Regression Results                            \n",
      "==============================================================================\n",
      "Dep. Variable:                  sales   R-squared:                       0.907\n",
      "Model:                            OLS   Adj. R-squared:                  0.905\n",
      "Method:                 Least Squares   F-statistic:                     505.4\n",
      "Date:                Sun, 14 Jun 2020   Prob (F-statistic):           4.23e-80\n",
      "Time:                        23:53:01   Log-Likelihood:                -326.47\n",
      "No. Observations:                 160   AIC:                             660.9\n",
      "Df Residuals:                     156   BIC:                             673.2\n",
      "Df Model:                           3                                         \n",
      "Covariance Type:            nonrobust                                         \n",
      "==============================================================================\n",
      "                 coef    std err          t      P>|t|      [0.025      0.975]\n",
      "------------------------------------------------------------------------------\n",
      "const          3.5939      0.396      9.076      0.000       2.812       4.376\n",
      "youtube        0.0446      0.001     30.212      0.000       0.042       0.047\n",
      "facebook       0.1965      0.009     21.994      0.000       0.179       0.214\n",
      "newspaper     -0.0028      0.006     -0.451      0.653      -0.015       0.009\n",
      "==============================================================================\n",
      "Omnibus:                       13.557   Durbin-Watson:                   2.038\n",
      "Prob(Omnibus):                  0.001   Jarque-Bera (JB):               15.174\n",
      "Skew:                          -0.754   Prob(JB):                     0.000507\n",
      "Kurtosis:                       2.990   Cond. No.                         562.\n",
      "==============================================================================\n",
      "\n",
      "Warnings:\n",
      "[1] Standard Errors assume that the covariance matrix of the errors is correctly specified.\n"
     ]
    }
   ],
   "source": [
    "import pandas as pd\n",
    "import statsmodels.api as sm\n",
    "\n",
    "\n",
    "df = pd.read_csv(\"data/marketing.csv\" , index_col='Unnamed: 0')\n",
    "X = df[['youtube', 'facebook', 'newspaper']] # here we have 2 variables for the multiple linear regression. If you just want to use one variable for simple linear regression, then use X = df['Interest_Rate'] for example\n",
    "Y = df['sales']\n",
    "X_train, X_test, y_train, y_test = train_test_split(X, Y, test_size=0.2, random_state=0)\n",
    "\n",
    "X_train= sm.add_constant(X_train) # adding a constant\n",
    "X_test= sm.add_constant(X_test) # adding a constant\n",
    "\n",
    "model = sm.OLS(y_train, X_train).fit()\n",
    "y_pred = model.predict(X_test) \n",
    "\n",
    "print_model = model.summary()\n",
    "print(print_model)\n",
    "\n",
    "\n",
    "df_result = pd.DataFrame({'Actual': y_test, 'Predicted': y_pred})\n",
    "\n"
   ]
  },
  {
   "cell_type": "code",
   "execution_count": 18,
   "metadata": {
    "colab": {
     "base_uri": "https://localhost:8080/",
     "height": 102
    },
    "colab_type": "code",
    "id": "eJgKjx1l5GV8",
    "outputId": "280ca1f8-5c9e-460e-d4d2-83f6a8eae41f"
   },
   "outputs": [
    {
     "name": "stdout",
     "output_type": "stream",
     "text": [
      "Mean Absolute Error: 1.6341376202508333\n",
      "Mean Squared Error: 6.339050339687543\n",
      "Root Mean Squared Error: 2.5177470761948157\n",
      "R- Squared:  0.9067114990146383\n",
      "An error rate:  0.1584385549175518\n"
     ]
    }
   ],
   "source": [
    "print('Mean Absolute Error:', metrics.mean_absolute_error(y_test, y_pred))  \n",
    "print('Mean Squared Error:', metrics.mean_squared_error(y_test, y_pred))  \n",
    "print('Root Mean Squared Error:', np.sqrt(metrics.mean_squared_error(y_test, y_pred)))\n",
    "print(\"R- Squared: \" , model.rsquared)\n",
    "print(\"An error rate: \" ,np.sqrt(metrics.mean_squared_error(y_test, y_pred)) / np.mean(y_test))"
   ]
  },
  {
   "cell_type": "markdown",
   "metadata": {
    "colab_type": "text",
    "id": "M1ajqtOywT0t"
   },
   "source": [
    "From the output above, the coefficients table shows the beta coefficient estimates and their significance levels. Columns are:\n",
    "\n",
    "Estimate: the intercept (b0) and the beta coefficient estimates associated to each predictor variable\n",
    "\n",
    "predictionsStd.Error: the standard error of the coefficient estimates. This represents the accuracy of the coefficients. The larger the standard error, the less confident we are about the estimate.\n",
    "\n",
    "\n",
    "t value: the t-statistic, which is the coefficient estimate (column 2) divided by the standard error of the estimate (column 3)\n",
    "Pr(>|t|): The p-value corresponding to the t-statistic. The smaller the p-value, the more significant the estimate is."
   ]
  },
  {
   "cell_type": "code",
   "execution_count": 19,
   "metadata": {
    "colab": {
     "base_uri": "https://localhost:8080/",
     "height": 102
    },
    "colab_type": "code",
    "id": "H0PUIPzg8fYd",
    "outputId": "b4bcd6ce-97e8-43ae-8947-b47d5b8c593b"
   },
   "outputs": [
    {
     "data": {
      "text/plain": [
       "const        3.593872\n",
       "youtube      0.044584\n",
       "facebook     0.196497\n",
       "newspaper   -0.002781\n",
       "dtype: float64"
      ]
     },
     "execution_count": 19,
     "metadata": {},
     "output_type": "execute_result"
    }
   ],
   "source": [
    "model.params"
   ]
  },
  {
   "cell_type": "markdown",
   "metadata": {
    "colab_type": "text",
    "id": "YBjnnOY2bv9f"
   },
   "source": [
    "## Interpretation\n",
    "\n",
    "\n",
    "\n",
    "The first step in interpreting the multiple regression analysis is to examine the F-statistic and the associated p-value, at the bottom of model summary.\n",
    "\n",
    "In our example, it can be seen that p-value of the F-statistic is < 2.2e-16, which is highly significant. This means that, at least, one of the predictor variables is significantly related to the outcome variable.\n",
    "\n",
    "To see which predictor variables are significant, you can examine the coefficients table, which shows the estimate of regression beta coefficients and the associated t-statitic p-values:"
   ]
  },
  {
   "cell_type": "markdown",
   "metadata": {
    "colab_type": "text",
    "id": "Vpw7ssz5Kqyf"
   },
   "source": [
    "Note that, if you have many predictor variables in your data, you can simply include all the available variables in the model using ~.:"
   ]
  },
  {
   "cell_type": "markdown",
   "metadata": {
    "colab_type": "text",
    "id": "OVwn13lCuFux"
   },
   "source": [
    "because newspaper does not have significat p-value, we remove it.\n",
    "\n",
    "our model equation can be written as follow\n",
    "\n",
    "\n",
    "sales = 3.52 + 0.046 * youtube + 0.188 * facebook -0.001 * newspaper"
   ]
  },
  {
   "cell_type": "markdown",
   "metadata": {
    "colab_type": "text",
    "id": "idY70qghMCvN"
   },
   "source": [
    "## Discussion\n",
    "This chapter describes the basics of linear regression and provides practical examples in R for computing simple and multiple linear regression models. We also described how to assess the performance of the model for predictions.\n",
    "\n",
    "Note that, linear regression assumes a linear relationship between the outcome and the predictor variables. This can be easily checked by creating a scatter plot of the outcome variable vs the predictor variable.\n",
    "\n",
    "For example, the following R code displays sales units versus youtube advertising budget. We’ll also add a smoothed line:"
   ]
  },
  {
   "cell_type": "markdown",
   "metadata": {},
   "source": [
    "## Confidence interval\n",
    "The confidence interval reflects the uncertainty around the mean predictions. To display the 95% confidence intervals around the mean the predictions, specify the option interval = \"confidence\":"
   ]
  },
  {
   "cell_type": "markdown",
   "metadata": {},
   "source": [
    "## Prediction interval\n",
    "The prediction interval gives uncertainty around a single value. In the same way, as the confidence intervals, the prediction intervals can be computed as follow:"
   ]
  },
  {
   "cell_type": "markdown",
   "metadata": {},
   "source": [
    "Which one should we use? The answer to this question depends on the context and the purpose of the analysis. Generally, we are interested in specific individual predictions, so a prediction interval would be more appropriate. Using a confidence interval when you should be using a prediction interval will greatly underestimate the uncertainty in a given predicted value (P. Bruce and Bruce 2017)."
   ]
  },
  {
   "cell_type": "markdown",
   "metadata": {
    "colab_type": "text",
    "id": "qte1zzpge-7L"
   },
   "source": [
    "# What you will learn\n",
    "\n",
    "http://www.sthda.com/english/articles/11-machine-learning/\n",
    "\n",
    "\n",
    "Large amount of data are recorded every day in different fields, including marketing, bio-medical and security. To discover knowledge from these data, you need machine learning techniques, which are classified into two categories:\n",
    "\n",
    "**1. Unsupervised machine learning methods:**\n",
    "\n",
    "These include mainly clustering and principal component analysis methods. The goal of clustering is to identify pattern or groups of similar objects within a data set of interest. Principal component methods consist of summarizing and visualizing the most important information contained in a multivariate data set.\n",
    "\n",
    "These methods are “unsupervised” because we are not guided by a priori ideas of which variables or samples belong in which clusters or groups. The machine algorithm “learns” how to cluster or summarize the data.\n",
    "\n",
    "**2. Supervised machine learning methods:**\n",
    "\n",
    "Supervised learning consists of building mathematical models for predicting the outcome of future observations. Predictive models can be classified into two main groups:\n",
    "\n",
    "+ regression analysis for predicting a continuous variable. For example, you might want to predict life expectancy based on socio-economic indicators.\n",
    "\n",
    "+ Classification for predicting the class (or group) of individuals. For example, you might want to predict the probability of being diabetes-positive based on the glucose concentration in the plasma of patients.\n",
    "\n",
    "These methods are supervised because we build the model based on known outcome values. That is, the machine learns from known observation outcomes in order to predict the outcome of future cases.\n",
    "\n",
    "Here, we present a practical guide to machine learning methods for exploring data sets, as well as, for building predictive models.\n",
    "\n",
    "\n"
   ]
  },
  {
   "cell_type": "markdown",
   "metadata": {
    "colab_type": "text",
    "id": "LrKGSJWqgdEe"
   },
   "source": [
    "# Key features of the tutorials\n",
    "\n",
    "Our goal was to write a practical guide to machine learning for every one.\n",
    "\n",
    "The main parts of the book include:\n",
    "\n",
    "**Unsupervised learning methods,** to explore and discover knowledge from a large multivariate data set using clustering and principal component methods. You will learn hierarchical clustering, k-means, principal component analysis and correspondence analysis methods.\n",
    "\n",
    "**Regression analysis,** to predict a quantitative outcome value using linear regression and non-linear regression strategies.\n",
    "\n",
    "**Classification techniques,** to predict a qualitative outcome value using logistic regression, discriminant analysis, naive bayes classifier and support vector machines.\n",
    "Advanced machine learning methods, to build robust regression and classification models using k-nearest neighbors methods, decision tree models, ensemble methods (bagging, random forest and boosting)\n",
    "\n",
    "**Model selection methods,** to select automatically the best combination of predictor variables for building an optimal predictive model. These include, best subsets selection methods, stepwise regression and penalized regression (ridge, lasso and elastic net regression models). We also present principal component-based regression methods, which are useful when the data contain multiple correlated predictor variables.\n",
    "\n",
    "**Model validation and evaluation techniques** for measuring the performance of a predictive model.\n",
    "\n",
    "**Model diagnostics** for detecting and fixing a potential problems in a predictive model.\n",
    "The book presents the basic principles of these tasks and provide many examples in R. This book offers solid guidance in data mining for students and researchers.\n",
    "\n",
    "Key features:\n",
    "\n",
    "Covers machine learning algorithm and implementation\n",
    "Key mathematical concepts are presented\n",
    "Short, self-contained chapters with practical examples. This means that, you don’t need to read the different chapters in sequence."
   ]
  },
  {
   "cell_type": "markdown",
   "metadata": {
    "colab_type": "text",
    "id": "QX0gof0wegBA"
   },
   "source": [
    "# Regression Analysis"
   ]
  },
  {
   "cell_type": "markdown",
   "metadata": {
    "colab_type": "text",
    "id": "U32_q6RhiSZa"
   },
   "source": [
    "**Regression analysis (or regression model)** consists of a set of machine learning methods that allow us to predict a continuous outcome variable (y) based on the value of one or multiple predictor variables (x).\n",
    "\n",
    "Briefly, the goal of regression model is to build a mathematical equation that defines y as a function of the x variables. Next, this equation can be used to predict the outcome (y) on the basis of new values of the predictor variables (x).\n",
    "\n",
    "**Linear regression** is the most simple and popular technique for predicting a continuous variable. It assumes a linear relationship between the outcome and the predictor variables. See Chapter @ref(linear-regression).\n",
    "\n",
    "The linear regression equation can be written as y = b0 + b*x, where:\n",
    "\n",
    "+ b0 is the intercept,\n",
    "\n",
    "+ b is the regression weight or coefficient associated with the predictor variable x.\n",
    "\n",
    "Technically, the linear regression coefficients are detetermined so that the error in predicting the outcome value is minimized. This method of computing the beta coefficients is called the **Ordinary Least Squares method**.\n",
    "\n",
    "When you have multiple predictor variables, say x1 and x2, the regression equation can be written as *y = b0 + b1*x1 + b2*x2*. In some situations, there might be an **interaction effect** between some predictors, that is for example, increasing the value of a predictor variable x1 may increase the effectiveness of the predictor x2 in explaining the variation in the outcome variable. \n",
    "\n",
    "Note also that, linear regression models can incorporate both **continuous** and **categorical predictor variables**.\n",
    "\n",
    "When you build the linear regression model, you need to **diagnostic** whether linear model is suitable for your data. \n",
    "\n",
    "In some cases, the relationship between the outcome and the predictor variables is not linear. In these situations, you need to build a **non-linear regression**, such as polynomial and spline regression. \n",
    "\n",
    "When you have multiple predictors in the regression model, you might want to select the best combination of predictor variables to build an optimal predictive model. This process called **model selection**, consists of comparing multiple models containing different sets of predictors in order to select the best performing model that minimize the prediction error. Linear model selection approaches include best subsets regression  and stepwise regression .\n",
    "\n",
    "In some situations, such as in genomic fields, you might have a large multivariate data set containing some correlated predictors. In this case, the information, in the original data set, can be summarized into few new variables (called principal components) that are a linear combination of the original variables. This few principal components can be used to build a linear model, which might be more performant for your data. This approach is know as **principal component-based methods** , which include: **principal component regression** and **partial least squares regression**.\n",
    "\n",
    "An alternative method to simplify a large multivariate model is to use **penalized regression** , which penalizes the model for having too many variables. The most well known penalized regression include **ridge regression** and **the lasso regression**.\n",
    "\n",
    "You can apply all these different regression models on your data, compare the models and finally select the best approach that explains well your data. To do so, you need some statistical metrics to compare the performance of the different models in explaining your data and in predicting the outcome of new test data.\n",
    "\n",
    "The best model is defined as the model that has the lowest prediction error. The most popular metrics for comparing regression models, include:\n",
    "\n",
    "**Root Mean Squared Error**, which measures the model prediction error. It corresponds to the average difference between the observed known values of the outcome and the predicted value by the model. RMSE is computed as RMSE = mean((observeds - predicteds)^2) %>% sqrt(). The lower the RMSE, the better the model.\n",
    "\n",
    "**R-square**, representing the squared correlation between the observed known outcome values and the predicted values by the model. The higher the R2, the better the model.\n",
    "\n",
    "**Adjusted R-square**, representing the proportion of variation (i.e., information), in your data, explained by the model. This corresponds to the overall quality of the model. The higher the adjusted R2, the better the model.\n",
    "\n",
    "Note that, the above mentioned metrics should be computed on a new test data that has not been used to train (i.e. build) the model. If you have a large data set, with many records, you can randomly split the data into training set (80% for building the predictive model) and test set or validation set (20% for evaluating the model performance).\n",
    "\n",
    "One of the most robust and popular approach for estimating a model performance is **k-fold cross-validation**. It can be applied even on a small data set. k-fold cross-validation works as follow:\n",
    "\n",
    "1. Randomly split the data set into k-subsets (or k-fold) (for example 5 subsets)\n",
    "2. Reserve one subset and train the model on all other subsets\n",
    "3. Test the model on the reserved subset and record the prediction error\n",
    "4. Repeat this process until each of the k subsets has served as the test set.\n",
    "5. Compute the average of the k recorded errors. This is called the cross-validation error serving as the performance metric for the model."
   ]
  },
  {
   "cell_type": "markdown",
   "metadata": {
    "colab_type": "text",
    "id": "9fukCbeoqA3W"
   },
   "source": [
    "## Mehtod\n",
    "A simple workflow to build to build a predictive regression model is as follow:\n",
    "\n",
    "1. Randomly split your data into training set (80%) and test set (20%)\n",
    "2. Build the regression model using the training set\n",
    "3. Make predictions using the test set and compute the model accuracy metrics"
   ]
  },
  {
   "cell_type": "markdown",
   "metadata": {
    "colab_type": "text",
    "id": "AQTW7GgIqHbo"
   },
   "source": [
    "# Formula\n",
    "The mathematical formula of the linear regression can be written as follow:\n",
    "\n",
    "y = b0 + b1*x + e\n",
    "\n",
    "We read this as “y is modeled as beta1 (b1) times x, plus a constant beta0 (b0), plus an error term e.”\n",
    "\n",
    "When you have multiple predictor variables, the equation can be written as y = b0 + b1*x1 + b2*x2 + ... + bn*xn, where:\n",
    "\n",
    "+ b0 is the intercept,\n",
    "+ b1, b2, …, bn are the regression weights or coefficients associated with the predictors x1, x2, …, xn.\n",
    "+ e is the error term (also known as the residual errors), the part of y that can be explained by the regression model.\n",
    "\n",
    "the figure below illustrates a simple linear regression model, where:\n",
    "\n",
    "![](linear-regression.png)\n",
    "+ the best-fit regression line is in blue\n",
    "+ the intercept (b0) and the slope (b1) are shown in green\n",
    "+ the error terms (e) are represented by vertical red lines\n",
    "\n",
    "From the scatter plot above, it can be seen that not all the data points fall exactly on the fitted regression line. Some of the points are above the blue curve and some are below it; overall, **the residual errors (e) have approximately mean zero**.\n",
    "\n",
    "The sum of the squares of the residual errors are called the **Residual Sum of Squares** or **RSS**.\n",
    "\n",
    "The average variation of points around the fitted regression line is called the **Residual Standard Error (RSE)**. This is one the metrics used to evaluate the overall quality of the fitted regression model. The lower the RSE, the better it is.\n",
    "\n",
    "Since the mean error term is zero, the outcome variable y can be approximately estimated as follow:\n",
    "\n",
    "y ~ b0 + b1*x\n",
    "\n",
    "Mathematically, the beta coefficients (b0 and b1) are determined so that the RSS is as minimal as possible. This method of determining the beta coefficients is technically called **least squares regression** or **ordinary least squares (OLS) regression**.\n",
    "\n",
    "Once, the beta coefficients are calculated, a t-test is performed to check whether or not these coefficients are significantly different from zero. A non-zero beta coefficients means that there is a significant relationship between the predictors (x) and the outcome variable (y).\n"
   ]
  },
  {
   "cell_type": "markdown",
   "metadata": {
    "colab_type": "text",
    "id": "OHpvYAAvYMGv"
   },
   "source": [
    "## Applying marketing dataset"
   ]
  },
  {
   "cell_type": "code",
   "execution_count": 4,
   "metadata": {
    "colab": {
     "base_uri": "https://localhost:8080/",
     "height": 476
    },
    "colab_type": "code",
    "id": "ZyKzh5lpjmNs",
    "outputId": "4b15c1a4-4013-4985-87b4-9f5d69978986"
   },
   "outputs": [
    {
     "name": "stdout",
     "output_type": "stream",
     "text": [
      "                            OLS Regression Results                            \n",
      "==============================================================================\n",
      "Dep. Variable:                  sales   R-squared:                       0.897\n",
      "Model:                            OLS   Adj. R-squared:                  0.896\n",
      "Method:                 Least Squares   F-statistic:                     570.3\n",
      "Date:                Wed, 15 Jul 2020   Prob (F-statistic):           1.58e-96\n",
      "Time:                        12:50:31   Log-Likelihood:                -422.65\n",
      "No. Observations:                 200   AIC:                             853.3\n",
      "Df Residuals:                     196   BIC:                             866.5\n",
      "Df Model:                           3                                         \n",
      "Covariance Type:            nonrobust                                         \n",
      "==============================================================================\n",
      "                 coef    std err          t      P>|t|      [0.025      0.975]\n",
      "------------------------------------------------------------------------------\n",
      "const          3.5267      0.374      9.422      0.000       2.789       4.265\n",
      "youtube        0.0458      0.001     32.809      0.000       0.043       0.049\n",
      "facebook       0.1885      0.009     21.893      0.000       0.172       0.206\n",
      "newspaper     -0.0010      0.006     -0.177      0.860      -0.013       0.011\n",
      "==============================================================================\n",
      "Omnibus:                       60.414   Durbin-Watson:                   2.084\n",
      "Prob(Omnibus):                  0.000   Jarque-Bera (JB):              151.241\n",
      "Skew:                          -1.327   Prob(JB):                     1.44e-33\n",
      "Kurtosis:                       6.332   Cond. No.                         545.\n",
      "==============================================================================\n",
      "\n",
      "Warnings:\n",
      "[1] Standard Errors assume that the covariance matrix of the errors is correctly specified.\n"
     ]
    }
   ],
   "source": [
    "import pandas as pd\n",
    "import statsmodels.api as sm\n",
    "\n",
    "\n",
    "df = pd.read_csv(\"./data/marketing.csv\")\n",
    "# Here we have 2 variables for the multiple linear regression. \n",
    "#  If you just want to use one variable for simple linear regression, then use X = df['Interest_Rate'] for example\n",
    "X = df[['youtube', 'facebook', 'newspaper']] \n",
    "Y = df['sales']\n",
    "\n",
    "X = sm.add_constant(X) # adding a constant\n",
    "\n",
    "model = sm.OLS(Y, X).fit()\n",
    "predictions = model.predict(X) \n",
    "\n",
    "print_model = model.summary()\n",
    "print(print_model)\n",
    "\n"
   ]
  },
  {
   "cell_type": "markdown",
   "metadata": {
    "colab_type": "text",
    "id": "4RRUkebDqMAY"
   },
   "source": [
    "# Understanding summry of model\n",
    "\n",
    "## **model** \n",
    "shows the function call to compute the regression model.\n",
    " \n",
    "## **Residuals** \n",
    "shows the regression beta coefficient and their statistical significant. predictor variable that are significantly associated to the outcome variable are marked by stars.\n",
    " \n",
    "## **Estimate** \n",
    "the intercept b0 and the coefficient estimates associated to each predictor variable\n",
    " \n",
    "## **Std.error**\n",
    " the standard error of the coefficient  estimates. This represents accuracy of the coefficient. the larger the standard error, the less confident we are about the estimate.\n",
    " \n",
    "## **t value**\n",
    "the t-statistic is a coefficient estimate divided by the standard error of the estimate. column 2 / column3\n",
    " \n",
    "## **Pr(>|t|)** \n",
    "corresponding to the t-statistic. the smaller are more significant the estimate is.\n",
    " \n",
    "## **RSS , Residual Sum of Squares** \n",
    "the sum of the squares of the residual errors. RSE or model sigma corresponding to the prediction error. represent roughly the average between observed outcome values and the predicted values by the model. We are looking for lower RSE.\n",
    " \n",
    "## **RSE = Residual Standard Error** \n",
    "the average variation of the points around the fitting regression line (looking for Lower).\n",
    "\n",
    "The RSE (or model sigma), corresponding to the prediction error, represents roughly the average difference between the observed outcome values and the predicted values by the model. The lower the RSE the best the model fits to our data.\n",
    "\n",
    "Dividing the RSE by the average value of the outcome variable will give you the prediction error rate, which should be as small as possible.\n",
    " \n",
    "\n",
    " also known as the model sigma, is a variant of the RMSE adjusted for the number of predictors in the model. The lower the RSE, the better the model. In practice, the difference between RMSE and RSE is very small, particularly for large multivariate data.\n",
    "\n",
    "## **R squared** \n",
    "R-squared is a statistical measure of how close the data are to the fitted regression line. It is also known as the coefficient of determination, or the coefficient of multiple determination for multiple regression.\n",
    " \n",
    "The definition of R-squared is fairly straight-forward; it is the percentage of the response variable variation that is explained by a linear model. Or:\n",
    " \n",
    "R-squared = Explained variation / Total variation\n",
    " \n",
    "R-squared is always between 0 and 100%:\n",
    " \n",
    "   * 0% indicates that the model explains none of the variability of the response data around its mean.\n",
    " \n",
    "   * 100% indicates that the model explains all the variability of the response data around its mean.\n",
    " \n",
    "R2 shows how well the model fits the data. We are looking for higher R Squared.\n",
    " \n",
    "In general, the higher the R-squared, the better the model fits your data. However, there are important conditions for this guideline that I’ll talk about both in this post and my next post.\n",
    " \n",
    " The R-squared (R2) ranges from 0 to 1 and represents the proportion of variation in the outcome variable that can be explained by the model predictor variables.\n",
    "\n",
    "For a simple linear regression, R2 is the square of the Pearson correlation coefficient between the outcome and the predictor variables. In multiple linear regression, the R2 represents the correlation coefficient between the observed outcome values and the predicted values.\n",
    "\n",
    "The R2 measures, how well the model fits the data. The higher the R2, the better the model. However, a problem with the R2, is that, it will always increase when more variables are added to the model, even if those variables are only weakly associated with the outcome (James et al. 2014). A solution is to adjust the R2 by taking into account the number of predictor variables.\n",
    "\n",
    "The adjustment in the “Adjusted R Square” value in the summary output is a correction for the number of x variables included in the predictive model.\n",
    "\n",
    "So, you should mainly consider the adjusted R-squared, which is a penalized R2 for a higher number of predictors.\n",
    "\n",
    "An (adjusted) R2 that is close to 1 indicates that a large proportion of the variability in the outcome has been explained by the regression model.\n",
    "A number near 0 indicates that the regression model did not explain much of the variability in the outcome.\n",
    "\n",
    "\n",
    "R-squared (R2), which is the proportion of variation in the outcome that is explained by the predictor variables. In multiple regression models, R2 corresponds to the squared correlation between the observed outcome values and the predicted values by the model. The Higher the R-squared, the better the model.\n",
    "\n",
    "## **F-statistic** \n",
    "An F statistic is a value you get when you run an ANOVA test or a regression analysis to find out if the means between two populations are significantly different.\n",
    "F-statistic gives the overall significance of the model. it assess at least one predictor variable has a non-zero coefficient.\n",
    "\n",
    "Recall that, the F-statistic gives the overall significance of the model. It assess whether at least one predictor variable has a non-zero coefficient.\n",
    "\n",
    "In a simple linear regression, this test is not really interesting since it just duplicates the information given by the t-test, available in the coefficient table.\n",
    "\n",
    "The F-statistic becomes more important once we start using multiple predictors as in multiple linear regression.\n",
    "\n",
    "\n",
    "**It would be very useful for multiple linear regression.**\n",
    " \n",
    " \n",
    " \n",
    "## **Adjusted R-squared** \n",
    "The summary output is a correction for the number of x variables included in the predictive model which penalizes R2 for a higher number of predictors.\n",
    "if 1 -> the variability in the outcome has been explained by the regression model.\n",
    " \n",
    "if 0 -> the variability in the outcome has **not** been explained by the regression model.\n",
    "\n",
    "## **Root Mean Squared Error (RMSE)**, \n",
    "which measures the average error performed by the model in predicting the outcome for an observation. Mathematically, the RMSE is the square root of the mean squared error (MSE), which is the average squared difference between the observed actual outome values and the values predicted by the model. So, MSE = mean((observeds - predicteds)^2) and RMSE = sqrt(MSE). The lower the RMSE, the better the model.\n",
    "\n",
    "## **Mean Absolute Error (MAE)**, \n",
    "like the RMSE, the MAE measures the prediction error. Mathematically, it is the average absolute difference between observed and predicted outcomes, MAE = mean(abs(observeds - predicteds)). MAE is less sensitive to outliers compared to RMSE."
   ]
  },
  {
   "cell_type": "markdown",
   "metadata": {
    "colab_type": "text",
    "id": "MkW6jSO2LtSl"
   },
   "source": [
    "## Making predictions\n",
    "We’ll make predictions using the test data in order to evaluate the performance of our regression model.\n",
    "\n",
    "The procedure is as follow:\n",
    "\n",
    "1. Predict the sales values based on new advertising budgets in the test data\n",
    "2. Assess the model performance by computing:\n",
    "    \n",
    "    2.1. The prediction error RMSE (Root Mean Squared Error), representing the average difference between the observed known outcome values in the test data and the predicted outcome values by the model. The lower the RMSE, the better the model.\n",
    "    \n",
    "    2.2. The R-square (R2), representing the correlation between the observed outcome values and the predicted outcome values. The higher the R2, the better the model.\n",
    "    \n",
    "    \n",
    "# Model performance metrics\n",
    "In regression model, the most commonly known evaluation metrics include:\n",
    "\n",
    "**R-squared (R2)**, which is the proportion of variation in the outcome that is explained by the predictor variables. In multiple regression models, R2 corresponds to the squared correlation between the observed outcome values and the predicted values by the model. The Higher the R-squared, the better the model.\n",
    "\n",
    "**Root Mean Squared Error (RMSE)**, which measures the average error performed by the model in predicting the outcome for an observation. Mathematically, the RMSE is the square root of the mean squared error (MSE), which is the average squared difference between the observed actual outome values and the values predicted by the model. So, MSE = mean((observeds - predicteds)^2) and RMSE = sqrt(MSE). The lower the RMSE, the better the model.\n",
    "\n",
    "**Residual Standard Error (RSE)**, also known as the model sigma, is a variant of the RMSE adjusted for the number of predictors in the model. The lower the RSE, the better the model. In practice, the difference between RMSE and RSE is very small, particularly for large multivariate data.\n",
    "\n",
    "**Mean Absolute Error (MAE)**, like the RMSE, the MAE measures the prediction error. Mathematically, it is the average absolute difference between observed and predicted outcomes, MAE = mean(abs(observeds - predicteds)). MAE is less sensitive to outliers compared to RMSE.\n",
    "\n",
    "The problem with the above metrics, is that they are sensible to the inclusion of additional variables in the model, even if those variables dont have significant contribution in explaining the outcome. Put in other words, including additional variables in the model will always increase the R2 and reduce the RMSE. So, we need a more robust metric to guide the model choice.\n",
    "\n",
    "**Adjusted R-squared**, Concerning R2, there is an adjusted version, called Adjusted R-squared, which adjusts the R2 for having too many variables in the model.\n",
    "\n",
    "Additionally, there are four other important metrics - AIC, AICc, BIC and Mallows Cp - that are commonly used for model evaluation and selection. These are an unbiased estimate of the model prediction error MSE. The lower these metrics, he better the model.\n",
    "\n",
    "**AIC stands for (Akaike’s Information Criteria)**, a metric developped by the Japanese Statistician, Hirotugu Akaike, 1970. The basic idea of AIC is to penalize the inclusion of additional variables to a model. It adds a penalty that increases the error when including additional terms. The lower the AIC, the better the model.\n",
    "AICc is a version of AIC corrected for small sample sizes.\n",
    "\n",
    "**BIC (or Bayesian information criteria)** is a variant of AIC with a stronger penalty for including additional variables to the model.\n",
    "\n",
    "**Mallows Cp**: A variant of AIC developed by Colin Mallows.\n",
    "\n",
    "    \n",
    "## Generally, the most commonly used metrics, for measuring regression model quality and for comparing models, are: Adjusted R2, AIC, BIC and Cp."
   ]
  },
  {
   "cell_type": "markdown",
   "metadata": {
    "colab_type": "text",
    "id": "g0G_OOPfnWfu"
   },
   "source": [
    "## R2 is very great.\n",
    "\n",
    "RMSE is 1.58, representing an error rate of \n",
    "\n",
    "\n",
    "1. [MAE] ≤ [RMSE]. The RMSE result will always be larger or equal to the MAE. If all of the errors have the same magnitude, then RMSE=MAE.\n",
    "\n",
    "2. [RMSE] ≤ [MAE * sqrt(n)], where n is the number of test samples. The difference between RMSE and MAE is greatest when all of the prediction error comes from a single test sample. The squared error then equals to [MAE^2 * n] for that single test sample and 0 for all other samples. Taking the square root, RMSE then equals to [MAE * sqrt(n)]."
   ]
  },
  {
   "cell_type": "markdown",
   "metadata": {
    "colab_type": "text",
    "id": "yp2WJBnXnjCe"
   },
   "source": [
    "# Simple Linear regression\n",
    "\n",
    "The simple linear regression is used to predict a continuous outcome variable (y) based on one single predictor variable (x).\n",
    "\n",
    "In the following example, we’ll build a simple linear model to predict sales units based on the advertising budget spent on youtube. The regression equation can be written as sales = b0 + b1*youtube.\n",
    "\n",
    "The R function lm() can be used to determine the beta coefficients of the linear model, as follow:"
   ]
  },
  {
   "cell_type": "code",
   "execution_count": 7,
   "metadata": {
    "colab": {
     "base_uri": "https://localhost:8080/",
     "height": 442
    },
    "colab_type": "code",
    "id": "pI34VUEiuVRr",
    "outputId": "ef780f5f-b2cc-48fc-8a0f-01e68979054a"
   },
   "outputs": [
    {
     "name": "stdout",
     "output_type": "stream",
     "text": [
      "                            OLS Regression Results                            \n",
      "==============================================================================\n",
      "Dep. Variable:                  sales   R-squared:                       0.612\n",
      "Model:                            OLS   Adj. R-squared:                  0.610\n",
      "Method:                 Least Squares   F-statistic:                     312.1\n",
      "Date:                Wed, 15 Jul 2020   Prob (F-statistic):           1.47e-42\n",
      "Time:                        12:51:33   Log-Likelihood:                -555.51\n",
      "No. Observations:                 200   AIC:                             1115.\n",
      "Df Residuals:                     198   BIC:                             1122.\n",
      "Df Model:                           1                                         \n",
      "Covariance Type:            nonrobust                                         \n",
      "==============================================================================\n",
      "                 coef    std err          t      P>|t|      [0.025      0.975]\n",
      "------------------------------------------------------------------------------\n",
      "const          8.4391      0.549     15.360      0.000       7.356       9.523\n",
      "youtube        0.0475      0.003     17.668      0.000       0.042       0.053\n",
      "==============================================================================\n",
      "Omnibus:                        0.531   Durbin-Watson:                   1.935\n",
      "Prob(Omnibus):                  0.767   Jarque-Bera (JB):                0.669\n",
      "Skew:                          -0.089   Prob(JB):                        0.716\n",
      "Kurtosis:                       2.779   Cond. No.                         406.\n",
      "==============================================================================\n",
      "\n",
      "Warnings:\n",
      "[1] Standard Errors assume that the covariance matrix of the errors is correctly specified.\n"
     ]
    }
   ],
   "source": [
    "import pandas as pd\n",
    "import statsmodels.api as sm\n",
    "\n",
    "\n",
    "df = pd.read_csv(\"./data/marketing.csv\" )\n",
    "X = df[['youtube']] # here we have 2 variables for the multiple linear regression. If you just want to use one variable for simple linear regression, then use X = df['Interest_Rate'] for example\n",
    "Y = df['sales']\n",
    "\n",
    "X = sm.add_constant(X) # adding a constant\n",
    "\n",
    "model = sm.OLS(Y, X).fit()\n",
    "predictions = model.predict(X) \n",
    "\n",
    "print(model.summary())\n",
    "\n"
   ]
  },
  {
   "cell_type": "markdown",
   "metadata": {},
   "source": [
    "## Coefficients significance\n",
    "\n",
    "\n",
    "The coefficients table, in the model statistical summary, shows:\n",
    "\n",
    "the estimates of the beta coefficients\n",
    "the standard errors (SE), which defines the accuracy of beta coefficients. For a given beta coefficient, the SE reflects how the coefficient varies under repeated sampling. It can be used to compute the confidence intervals and the t-statistic.\n",
    "the t-statistic and the associated p-value, which defines the statistical significance of the beta coefficients.\n",
    "\n",
    "\n",
    "\n",
    "## t-statistic and p-values:\n",
    "\n",
    "For a given predictor, the t-statistic (and its associated p-value) tests whether or not there is a statistically significant relationship between a given predictor and the outcome variable, that is whether or not the beta coefficient of the predictor is significantly different from zero.\n",
    "\n",
    "The statistical hypotheses are as follow:\n",
    "\n",
    "Null hypothesis (H0): the coefficients are equal to zero (i.e., no relationship between x and y)\n",
    "Alternative Hypothesis (Ha): the coefficients are not equal to zero (i.e., there is some relationship between x and y)\n",
    "Mathematically, for a given beta coefficient (b), the t-test is computed as t = (b - 0)/SE(b), where SE(b) is the standard error of the coefficient b. The t-statistic measures the number of standard deviations that b is away from 0. Thus a large t-statistic will produce a small p-value.\n",
    "\n",
    "The higher the t-statistic (and the lower the p-value), the more significant the predictor. The symbols to the right visually specifies the level of significance. The line below the table shows the definition of these symbols; one star means 0.01 < p < 0.05. The more the stars beside the variable’s p-value, the more significant the variable.\n",
    "\n",
    "A statistically significant coefficient indicates that there is an association between the predictor (x) and the outcome (y) variable."
   ]
  },
  {
   "cell_type": "code",
   "execution_count": 8,
   "metadata": {
    "colab": {
     "base_uri": "https://localhost:8080/",
     "height": 136
    },
    "colab_type": "code",
    "id": "3Yl1bTXQnvp2",
    "outputId": "8a821e3a-af74-4c59-fccc-7eed480ace95"
   },
   "outputs": [
    {
     "name": "stdout",
     "output_type": "stream",
     "text": [
      "Parameters:  const      8.439112\n",
      "youtube    0.047537\n",
      "dtype: float64\n",
      "R2:  0.611875050850071\n",
      "Pvalues:  const      1.406300e-35\n",
      "youtube    1.467390e-42\n",
      "dtype: float64\n"
     ]
    }
   ],
   "source": [
    "print('Parameters: ', model.params)\n",
    "print('R2: ', model.rsquared)\n",
    "print('Pvalues: ', model.pvalues)"
   ]
  },
  {
   "cell_type": "markdown",
   "metadata": {
    "colab_type": "text",
    "id": "5LKjWueY1Wwd"
   },
   "source": [
    "## Another example with sklearn"
   ]
  },
  {
   "cell_type": "code",
   "execution_count": 9,
   "metadata": {
    "colab": {
     "base_uri": "https://localhost:8080/",
     "height": 170
    },
    "colab_type": "code",
    "id": "xnvhAtlugOe4",
    "outputId": "9d0b6075-1d47-4cae-827f-9f8cd8765d37"
   },
   "outputs": [
    {
     "name": "stdout",
     "output_type": "stream",
     "text": [
      "          youtube    facebook   newspaper       sales\n",
      "count  200.000000  200.000000  200.000000  200.000000\n",
      "mean   176.451000   27.916800   36.664800   16.827000\n",
      "std    103.025084   17.816171   26.134345    6.260948\n",
      "min      0.840000    0.000000    0.360000    1.920000\n",
      "25%     89.250000   11.970000   15.300000   12.450000\n",
      "50%    179.700000   27.480000   30.900000   15.480000\n",
      "75%    262.590000   43.830000   54.120000   20.880000\n",
      "max    355.680000   59.520000  136.800000   32.400000\n",
      "<class 'pandas.core.frame.DataFrame'>\n",
      "Int64Index: 200 entries, 115 to 96\n",
      "Data columns (total 4 columns):\n",
      " #   Column     Non-Null Count  Dtype  \n",
      "---  ------     --------------  -----  \n",
      " 0   youtube    200 non-null    float64\n",
      " 1   facebook   200 non-null    float64\n",
      " 2   newspaper  200 non-null    float64\n",
      " 3   sales      200 non-null    float64\n",
      "dtypes: float64(4)\n",
      "memory usage: 7.8 KB\n",
      "None\n"
     ]
    }
   ],
   "source": [
    "import pandas as pd  \n",
    "import numpy as np  \n",
    "import matplotlib.pyplot as plt  \n",
    "from sklearn.utils import shuffle\n",
    "\n",
    "import seaborn as seabornInstance \n",
    "from sklearn.model_selection import train_test_split \n",
    "from sklearn.linear_model import LinearRegression\n",
    "from sklearn import metrics\n",
    "%matplotlib inline\n",
    "dataset = pd.read_csv('./data/marketing.csv' )\n",
    "dataset = shuffle(dataset)\n",
    "print(dataset.describe())\n",
    "print(dataset.info())"
   ]
  },
  {
   "cell_type": "code",
   "execution_count": 10,
   "metadata": {
    "colab": {
     "base_uri": "https://localhost:8080/",
     "height": 901
    },
    "colab_type": "code",
    "id": "RJOso4AQgUEi",
    "outputId": "9a6abd91-de5a-46a9-9586-439c7a3b4d31"
   },
   "outputs": [
    {
     "data": {
      "image/png": "[encoded data removed]",
      "text/plain": [
       "<Figure size 432x288 with 1 Axes>"
      ]
     },
     "metadata": {
      "needs_background": "light"
     },
     "output_type": "display_data"
    },
    {
     "data": {
      "text/plain": [
       "<matplotlib.axes._subplots.AxesSubplot at 0x7fbc2f193590>"
      ]
     },
     "execution_count": 10,
     "metadata": {},
     "output_type": "execute_result"
    },
    {
     "data": {
      "image/png": "[encoded data removed]",
      "text/plain": [
       "<Figure size 1080x720 with 1 Axes>"
      ]
     },
     "metadata": {
      "needs_background": "light"
     },
     "output_type": "display_data"
    }
   ],
   "source": [
    "## visualize dataset\n",
    "dataset.plot(x='youtube', y='sales', style='o')  \n",
    "plt.title('youtube vs sales')  \n",
    "plt.xlabel('youtube')  \n",
    "plt.ylabel('sales')  \n",
    "plt.show()\n",
    "\n",
    "\n",
    "plt.figure(figsize=(15,10))\n",
    "plt.tight_layout()\n",
    "seabornInstance.distplot(dataset['sales'])"
   ]
  },
  {
   "cell_type": "markdown",
   "metadata": {
    "colab_type": "text",
    "id": "hRU4IAfigZfs"
   },
   "source": [
    "## Split data and fit model"
   ]
  },
  {
   "cell_type": "code",
   "execution_count": 11,
   "metadata": {
    "colab": {
     "base_uri": "https://localhost:8080/",
     "height": 51
    },
    "colab_type": "code",
    "id": "1_J1NeVqgbQm",
    "outputId": "4a540d1c-a819-4885-b386-1da4df58fe22"
   },
   "outputs": [
    {
     "name": "stdout",
     "output_type": "stream",
     "text": [
      "To retrieve the intercept:  [8.6367512]\n",
      "For retrieving the slope:  [[0.04573473]]\n"
     ]
    }
   ],
   "source": [
    "X = dataset['youtube'].values.reshape(-1,1)\n",
    "y = dataset['sales'].values.reshape(-1,1)\n",
    "X_train, X_test, y_train, y_test = train_test_split(X, y, test_size=0.2, random_state=0)\n",
    "regressor = LinearRegression().fit(X_train, y_train) #training the algorithm\n",
    "#To retrieve the intercept:\n",
    "print(\"To retrieve the intercept: \" , regressor.intercept_)\n",
    "#For retrieving the slope:\n",
    "print(\"For retrieving the slope: \" , regressor.coef_)\n"
   ]
  },
  {
   "cell_type": "markdown",
   "metadata": {},
   "source": [
    "# K-fold cross-validation\n",
    "\n",
    "R2, RMSE and MAE are used to measure the regression model performance during cross-validation.\n",
    "\n",
    "\n",
    "# Cross-validation methods\n",
    "\n",
    "Briefly, cross-validation algorithms can be summarized as follow:\n",
    "\n",
    "1. Reserve a small sample of the data set\n",
    "2. Build (or train) the model using the remaining part of the data set\n",
    "3. Test the effectiveness of the model on the the reserved sample of the data set. If the model works well on the test data set, then it’s good.\n",
    "\n",
    "The k-fold cross-validation method evaluates the model performance on different subset of the training data and then calculate the average prediction error rate. The algorithm is as follow:\n",
    "\n",
    "1. Randomly split the data set into k-subsets (or k-fold) (for example 5 subsets)\n",
    "2. Reserve one subset and train the model on all other subsets\n",
    "3. Test the model on the reserved subset and record the prediction error\n",
    "4. Repeat this process until each of the k subsets has served as the test set.\n",
    "5. Compute the average of the k recorded errors. This is called the cross-validation error serving as the performance metric for the model.\n",
    "\n",
    "K-fold cross-validation (CV) is a robust method for estimating the accuracy of a model.\n",
    "\n",
    "The most obvious advantage of k-fold CV compared to LOOCV is computational. A less obvious but potentially more important advantage of k-fold CV is that it often gives more accurate estimates of the test error rate than does LOOCV (James et al. 2014).\n",
    "\n",
    "## Typical question, is how to choose right value of k?\n",
    "\n",
    "Lower value of K is more biased and hence undesirable. On the other hand, higher value of K is less biased, but can suffer from large variability. It is not hard to see that a smaller value of k (say k = 2) always takes us towards validation set approach, whereas a higher value of k (say k = number of data points) leads us to LOOCV approach.\n",
    "\n",
    "In practice, one typically performs k-fold cross-validation using k = 5 or k = 10, as these values have been shown empirically to yield test error rate estimates that suffer neither from excessively high bias nor from very high variance.\n",
    "\n",
    "![](5-cv.png)"
   ]
  },
  {
   "cell_type": "code",
   "execution_count": 12,
   "metadata": {},
   "outputs": [
    {
     "data": {
      "text/plain": [
       "array([0.57951032, 0.6490886 , 0.60710243, 0.51479669, 0.36421466])"
      ]
     },
     "execution_count": 12,
     "metadata": {},
     "output_type": "execute_result"
    }
   ],
   "source": [
    "from sklearn.model_selection import cross_val_score\n",
    "cross_val_score(regressor, X_train, y_train, cv=5)"
   ]
  },
  {
   "cell_type": "markdown",
   "metadata": {},
   "source": [
    "# Bootstrap Resampling \n",
    "\n",
    "Similarly to cross-validation techniques , the bootstrap resampling method can be used to measure the accuracy of a predictive model. Additionally, it can be used to measure the uncertainty associated with any statistical estimator.\n",
    "\n",
    "Bootstrap resampling consists of repeatedly selecting a sample of n observations from the original data set, and to evaluate the model on each copy. An average standard error is then calculated and the results provide an indication of the overall variance of the model performance.\n",
    "\n",
    "This chapter describes the basics of bootstrapping and provides practical examples in R for computing a model prediction error. Additionally, we’ll show you how to compute an estimator uncertainty using bootstrap techniques."
   ]
  },
  {
   "cell_type": "code",
   "execution_count": 13,
   "metadata": {
    "colab": {
     "base_uri": "https://localhost:8080/",
     "height": 204
    },
    "colab_type": "code",
    "id": "y9qUXAHugjvh",
    "outputId": "d5c502e3-b6b8-4e33-e14b-7ade893f7fbb"
   },
   "outputs": [
    {
     "data": {
      "text/html": [
       "<div>\n",
       "<style scoped>\n",
       "    .dataframe tbody tr th:only-of-type {\n",
       "        vertical-align: middle;\n",
       "    }\n",
       "\n",
       "    .dataframe tbody tr th {\n",
       "        vertical-align: top;\n",
       "    }\n",
       "\n",
       "    .dataframe thead th {\n",
       "        text-align: right;\n",
       "    }\n",
       "</style>\n",
       "<table border=\"1\" class=\"dataframe\">\n",
       "  <thead>\n",
       "    <tr style=\"text-align: right;\">\n",
       "      <th></th>\n",
       "      <th>Actual</th>\n",
       "      <th>Predicted</th>\n",
       "    </tr>\n",
       "  </thead>\n",
       "  <tbody>\n",
       "    <tr>\n",
       "      <th>0</th>\n",
       "      <td>22.08</td>\n",
       "      <td>20.200320</td>\n",
       "    </tr>\n",
       "    <tr>\n",
       "      <th>1</th>\n",
       "      <td>17.76</td>\n",
       "      <td>21.105868</td>\n",
       "    </tr>\n",
       "    <tr>\n",
       "      <th>2</th>\n",
       "      <td>17.40</td>\n",
       "      <td>17.664787</td>\n",
       "    </tr>\n",
       "    <tr>\n",
       "      <th>3</th>\n",
       "      <td>17.88</td>\n",
       "      <td>18.976459</td>\n",
       "    </tr>\n",
       "    <tr>\n",
       "      <th>4</th>\n",
       "      <td>15.36</td>\n",
       "      <td>24.590854</td>\n",
       "    </tr>\n",
       "  </tbody>\n",
       "</table>\n",
       "</div>"
      ],
      "text/plain": [
       "   Actual  Predicted\n",
       "0   22.08  20.200320\n",
       "1   17.76  21.105868\n",
       "2   17.40  17.664787\n",
       "3   17.88  18.976459\n",
       "4   15.36  24.590854"
      ]
     },
     "execution_count": 13,
     "metadata": {},
     "output_type": "execute_result"
    }
   ],
   "source": [
    "y_pred = regressor.predict(X_test)\n",
    "df = pd.DataFrame({'Actual': y_test.flatten(), 'Predicted': y_pred.flatten()})\n",
    "df.head(5)"
   ]
  },
  {
   "cell_type": "code",
   "execution_count": 9,
   "metadata": {
    "colab": {
     "base_uri": "https://localhost:8080/",
     "height": 594
    },
    "colab_type": "code",
    "id": "lkPf_UG3gl-f",
    "outputId": "e0abb5ac-0da9-4af1-c79f-2c43ce934975"
   },
   "outputs": [
    {
     "data": {
      "image/png": "[encoded data removed]",
      "text/plain": [
       "<Figure size 1152x720 with 1 Axes>"
      ]
     },
     "metadata": {
      "needs_background": "light"
     },
     "output_type": "display_data"
    }
   ],
   "source": [
    "# Vizulize\n",
    "df1 = df.head(25)\n",
    "df1.plot(kind='bar',figsize=(16,10))\n",
    "plt.grid(which='major', linestyle='-', linewidth='0.5', color='green')\n",
    "plt.grid(which='minor', linestyle=':', linewidth='0.5', color='black')\n",
    "plt.show()"
   ]
  },
  {
   "cell_type": "code",
   "execution_count": 10,
   "metadata": {
    "colab": {
     "base_uri": "https://localhost:8080/",
     "height": 265
    },
    "colab_type": "code",
    "id": "rlztaPr9gn9d",
    "outputId": "024bdf8d-096f-461b-9954-9a7bfbb04a71"
   },
   "outputs": [
    {
     "data": {
      "image/png": "[encoded data removed]",
      "text/plain": [
       "<Figure size 432x288 with 1 Axes>"
      ]
     },
     "metadata": {
      "needs_background": "light"
     },
     "output_type": "display_data"
    }
   ],
   "source": [
    "# on scatter\n",
    "plt.scatter(X_test, y_test,  color='gray')\n",
    "plt.plot(X_test, y_pred, color='red', linewidth=2)\n",
    "plt.show()\n"
   ]
  },
  {
   "cell_type": "code",
   "execution_count": 11,
   "metadata": {},
   "outputs": [
    {
     "name": "stdout",
     "output_type": "stream",
     "text": [
      "Mean Absolute Error: 3.028942833087398\n",
      "Mean Squared Error: 15.529059302966383\n",
      "Root Mean Squared Error: 3.940692744044679\n"
     ]
    }
   ],
   "source": [
    "# show metrics\n",
    "print('Mean Absolute Error:', metrics.mean_absolute_error(y_test, y_pred))  \n",
    "print('Mean Squared Error:', metrics.mean_squared_error(y_test, y_pred))  \n",
    "print('Root Mean Squared Error:', np.sqrt(metrics.mean_squared_error(y_test, y_pred)))"
   ]
  },
  {
   "cell_type": "markdown",
   "metadata": {
    "colab_type": "text",
    "id": "oAtjdYN5LByM"
   },
   "source": [
    "For a given predictor variable, the coefficient (b) can be interpreted as the average effect on y of a one unit increase in predictor, holding all other predictors fixed.\n",
    "\n",
    "For example, for a fixed amount of youtube and newspaper advertising budget, spending an additional 1 000 dollars on facebook advertising leads to an increase in sales by approximately 0.1885*1000 = 189 sale units, on average.\n",
    "\n",
    "The youtube coefficient suggests that for every 1 000 dollars increase in youtube advertising budget, holding all other predictors constant, we can expect an increase of 0.045*1000 = 45 sales units, on average.\n",
    "\n",
    "We found that newspaper is not significant in the multiple regression model. This means that, for a fixed amount of youtube and newspaper advertising budget, changes in the newspaper advertising budget will not significantly affect sales units.\n",
    "\n",
    "As the newspaper variable is not significant, it is possible to remove it fro"
   ]
  },
  {
   "cell_type": "markdown",
   "metadata": {
    "colab_type": "text",
    "id": "gj8Ro5nio6qP"
   },
   "source": [
    "The output above shows the estimate of the regression beta coefficients (column Estimate) and their significance levels (column Pr(>|t|). The intercept (b0) is 8.38 and the coefficient of youtube variable is 0.046.\n",
    "\n",
    "The estimated regression equation can be written as follow: sales = 8.38 + 0.046*youtube. Using this formula, for each new youtube advertising budget, you can predict the number of sale units.\n",
    "\n",
    "For example:\n",
    "\n",
    "For a youtube advertising budget equal zero, we can expect a sale of 8.38 units.\n",
    "For a youtube advertising budget equal 1000, we can expect a sale of 8.38 + 0.046*1000 = 55 units.\n",
    "\n",
    "Predictions can be easily made using the R function predict(). In the following example, we predict sales units for two youtube advertising budget: 0 and 1000."
   ]
  },
  {
   "cell_type": "markdown",
   "metadata": {
    "colab_type": "text",
    "id": "mXaSjcZvU4jB"
   },
   "source": [
    "## Summary\n",
    "After computing a regression model, a first step is to check whether, at least, one predictor is significantly associated with outcome variables.\n",
    "\n",
    "If one or more predictors are significant, the second step is to assess how well the model fits the data by inspecting the Residuals Standard Error (RSE), the R2 value and the F-statistics. These metrics give the overall quality of the model."
   ]
  },
  {
   "cell_type": "markdown",
   "metadata": {
    "colab_type": "text",
    "id": "reJXRLQEpbH5"
   },
   "source": [
    "# Multiple Linear Regression\n",
    "\n",
    "sales = b0 + b1 * youtube  + b2 * facebook + b3 * newspaper + e\n",
    "\n",
    "\n",
    "Multiple linear regression is an extension of simple linear regression for predicting an outcome variable (y) on the basis of multiple distinct predictor variables (x).\n",
    "\n",
    "For example, with three predictor variables (x), the prediction of y is expressed by the following equation: y = b0 + b1*x1 + b2*x2 + b3*x3\n",
    "\n",
    "The regression beta coefficients measure the association between each predictor variable and the outcome. “b_j” can be interpreted as the average effect on y of a one unit increase in “x_j”, holding all other predictors fixed.\n",
    "\n",
    "In this section, we’ll build a multiple regression model to predict sales based on the budget invested in three advertising medias: youtube, facebook and newspaper. The formula is as follow: sales = b0 + b1*youtube + b2*facebook + b3*newspaper\n",
    "\n",
    "You can compute the multiple regression model coefficients in R as follow:"
   ]
  },
  {
   "cell_type": "code",
   "execution_count": 12,
   "metadata": {
    "colab": {
     "base_uri": "https://localhost:8080/",
     "height": 1000
    },
    "colab_type": "code",
    "id": "Xt2zUZh7gwnf",
    "outputId": "afe0c8f9-325e-4739-ad05-ea6260a33df6"
   },
   "outputs": [
    {
     "name": "stdout",
     "output_type": "stream",
     "text": [
      "          youtube    facebook   newspaper       sales\n",
      "count  200.000000  200.000000  200.000000  200.000000\n",
      "mean   176.451000   27.916800   36.664800   16.827000\n",
      "std    103.025084   17.816171   26.134345    6.260948\n",
      "min      0.840000    0.000000    0.360000    1.920000\n",
      "25%     89.250000   11.970000   15.300000   12.450000\n",
      "50%    179.700000   27.480000   30.900000   15.480000\n",
      "75%    262.590000   43.830000   54.120000   20.880000\n",
      "max    355.680000   59.520000  136.800000   32.400000\n"
     ]
    },
    {
     "data": {
      "image/png": "[encoded data removed]",
      "text/plain": [
       "<Figure size 432x288 with 1 Axes>"
      ]
     },
     "metadata": {
      "needs_background": "light"
     },
     "output_type": "display_data"
    },
    {
     "data": {
      "image/png": "[encoded data removed]",
      "text/plain": [
       "<Figure size 1080x720 with 1 Axes>"
      ]
     },
     "metadata": {
      "needs_background": "light"
     },
     "output_type": "display_data"
    }
   ],
   "source": [
    "import pandas as pd  \n",
    "import numpy as np  \n",
    "import matplotlib.pyplot as plt  \n",
    "import seaborn as seabornInstance \n",
    "from sklearn.model_selection import train_test_split \n",
    "from sklearn.linear_model import LinearRegression\n",
    "from sklearn import metrics\n",
    "%matplotlib inline\n",
    "dataset = pd.read_csv('data/marketing.csv' , index_col='Unnamed: 0' )\n",
    "print(dataset.describe())\n",
    "\n",
    "## visualize dataset\n",
    "dataset.plot(x='youtube', y='sales', style='o')  \n",
    "plt.title('youtube vs sales')  \n",
    "plt.xlabel('youtube')  \n",
    "plt.ylabel('sales')  \n",
    "plt.show()\n",
    "plt.figure(figsize=(15,10))\n",
    "plt.tight_layout()\n",
    "seabornInstance.distplot(dataset['sales'])\n",
    "\n",
    "dataset.isnull().any()\n",
    "dataset = dataset.fillna(method='ffill')"
   ]
  },
  {
   "cell_type": "code",
   "execution_count": 13,
   "metadata": {
    "colab": {
     "base_uri": "https://localhost:8080/",
     "height": 51
    },
    "colab_type": "code",
    "id": "8XQA-4sXgz3v",
    "outputId": "aa2805f1-8eee-423c-f4f9-d3f0de6f6c07"
   },
   "outputs": [
    {
     "name": "stdout",
     "output_type": "stream",
     "text": [
      "To retrieve the intercept:  [3.59387164]\n",
      "For retrieving the slope:  [[ 0.04458402  0.19649703 -0.00278146]]\n"
     ]
    }
   ],
   "source": [
    "\n",
    "# split data\n",
    "X = dataset[['youtube' , 'facebook' , 'newspaper']].values\n",
    "y = dataset[['sales']].values\n",
    "\n",
    "X_train, X_test, y_train, y_test = train_test_split(X, y, test_size=0.2, random_state=0)\n",
    "regressor = LinearRegression().fit(X_train, y_train) #training the algorithm\n",
    "\n",
    "#To retrieve the intercept:\n",
    "print(\"To retrieve the intercept: \" , regressor.intercept_)\n",
    "#For retrieving the slope:\n",
    "print(\"For retrieving the slope: \" , regressor.coef_)\n"
   ]
  },
  {
   "cell_type": "code",
   "execution_count": 14,
   "metadata": {
    "colab": {
     "base_uri": "https://localhost:8080/",
     "height": 204
    },
    "colab_type": "code",
    "id": "0DZwXl_rg2cV",
    "outputId": "15b4cc03-397b-4352-c532-3f2a3e8752b1"
   },
   "outputs": [
    {
     "name": "stdout",
     "output_type": "stream",
     "text": [
      "   Actual  Predicted\n",
      "0   13.56  12.068875\n",
      "1   10.08   8.942737\n",
      "2   10.44   8.423649\n",
      "3   30.48  28.896357\n",
      "4   14.04  14.421435\n",
      "5   10.44   7.845526\n",
      "6    8.64  15.339443\n",
      "7   15.84  18.131695\n",
      "8   11.04  12.923688\n",
      "9   19.92  19.612295\n"
     ]
    }
   ],
   "source": [
    "y_pred = regressor.predict(X_test)\n",
    "df = pd.DataFrame({'Actual': y_test.flatten(), 'Predicted': y_pred.flatten()})\n",
    "print(df.head(10))"
   ]
  },
  {
   "cell_type": "code",
   "execution_count": 15,
   "metadata": {
    "colab": {
     "base_uri": "https://localhost:8080/",
     "height": 594
    },
    "colab_type": "code",
    "id": "DU-FUv2Fx8Dq",
    "outputId": "0892afcc-5bde-4d2c-96b2-c64bed4c2dac"
   },
   "outputs": [
    {
     "data": {
      "image/png": "[encoded data removed]",
      "text/plain": [
       "<Figure size 1152x720 with 1 Axes>"
      ]
     },
     "metadata": {
      "needs_background": "light"
     },
     "output_type": "display_data"
    }
   ],
   "source": [
    "# Vizulize\n",
    "df1 = df.head(25)\n",
    "df1.plot(kind='bar',figsize=(16,10))\n",
    "plt.grid(which='major', linestyle='-', linewidth='0.5', color='green')\n",
    "plt.grid(which='minor', linestyle=':', linewidth='0.5', color='black')\n",
    "plt.show()"
   ]
  },
  {
   "cell_type": "code",
   "execution_count": 16,
   "metadata": {
    "colab": {
     "base_uri": "https://localhost:8080/",
     "height": 102
    },
    "colab_type": "code",
    "id": "L3aHA6CO7f3H",
    "outputId": "dbe4bb1e-2fa1-4b35-d535-e069ea35b3fe"
   },
   "outputs": [
    {
     "name": "stdout",
     "output_type": "stream",
     "text": [
      "Mean Absolute Error: 1.6341376202508333\n",
      "Mean Squared Error: 6.339050339687548\n",
      "Root Mean Squared Error: 2.5177470761948166\n",
      "R Score 0.9067114990146382\n",
      "An error rate:  0.15843855491755185\n"
     ]
    }
   ],
   "source": [
    "print('Mean Absolute Error:', metrics.mean_absolute_error(y_test, y_pred))  \n",
    "print('Mean Squared Error:', metrics.mean_squared_error(y_test, y_pred))  \n",
    "print('Root Mean Squared Error:', np.sqrt(metrics.mean_squared_error(y_test, y_pred)))\n",
    "print(\"R Score\" , regressor.score(X_train, y_train)) \n",
    "print(\"An error rate: \" ,np.sqrt(metrics.mean_squared_error(y_test, y_pred)) / np.mean(y_test))"
   ]
  },
  {
   "cell_type": "markdown",
   "metadata": {
    "colab_type": "text",
    "id": "6s-lqkkNg6K1"
   },
   "source": [
    "## Apply statsmodels"
   ]
  },
  {
   "cell_type": "code",
   "execution_count": 17,
   "metadata": {
    "colab": {
     "base_uri": "https://localhost:8080/",
     "height": 476
    },
    "colab_type": "code",
    "id": "9LEXTcTF2iSY",
    "outputId": "ef1576b3-9b76-461d-dba3-b39c1844a984"
   },
   "outputs": [
    {
     "name": "stdout",
     "output_type": "stream",
     "text": [
      "                            OLS Regression Results                            \n",
      "==============================================================================\n",
      "Dep. Variable:                  sales   R-squared:                       0.907\n",
      "Model:                            OLS   Adj. R-squared:                  0.905\n",
      "Method:                 Least Squares   F-statistic:                     505.4\n",
      "Date:                Sun, 14 Jun 2020   Prob (F-statistic):           4.23e-80\n",
      "Time:                        23:53:01   Log-Likelihood:                -326.47\n",
      "No. Observations:                 160   AIC:                             660.9\n",
      "Df Residuals:                     156   BIC:                             673.2\n",
      "Df Model:                           3                                         \n",
      "Covariance Type:            nonrobust                                         \n",
      "==============================================================================\n",
      "                 coef    std err          t      P>|t|      [0.025      0.975]\n",
      "------------------------------------------------------------------------------\n",
      "const          3.5939      0.396      9.076      0.000       2.812       4.376\n",
      "youtube        0.0446      0.001     30.212      0.000       0.042       0.047\n",
      "facebook       0.1965      0.009     21.994      0.000       0.179       0.214\n",
      "newspaper     -0.0028      0.006     -0.451      0.653      -0.015       0.009\n",
      "==============================================================================\n",
      "Omnibus:                       13.557   Durbin-Watson:                   2.038\n",
      "Prob(Omnibus):                  0.001   Jarque-Bera (JB):               15.174\n",
      "Skew:                          -0.754   Prob(JB):                     0.000507\n",
      "Kurtosis:                       2.990   Cond. No.                         562.\n",
      "==============================================================================\n",
      "\n",
      "Warnings:\n",
      "[1] Standard Errors assume that the covariance matrix of the errors is correctly specified.\n"
     ]
    }
   ],
   "source": [
    "import pandas as pd\n",
    "import statsmodels.api as sm\n",
    "\n",
    "\n",
    "df = pd.read_csv(\"data/marketing.csv\" , index_col='Unnamed: 0')\n",
    "X = df[['youtube', 'facebook', 'newspaper']] # here we have 2 variables for the multiple linear regression. If you just want to use one variable for simple linear regression, then use X = df['Interest_Rate'] for example\n",
    "Y = df['sales']\n",
    "X_train, X_test, y_train, y_test = train_test_split(X, Y, test_size=0.2, random_state=0)\n",
    "\n",
    "X_train= sm.add_constant(X_train) # adding a constant\n",
    "X_test= sm.add_constant(X_test) # adding a constant\n",
    "\n",
    "model = sm.OLS(y_train, X_train).fit()\n",
    "y_pred = model.predict(X_test) \n",
    "\n",
    "print_model = model.summary()\n",
    "print(print_model)\n",
    "\n",
    "\n",
    "df_result = pd.DataFrame({'Actual': y_test, 'Predicted': y_pred})\n",
    "\n"
   ]
  },
  {
   "cell_type": "code",
   "execution_count": 18,
   "metadata": {
    "colab": {
     "base_uri": "https://localhost:8080/",
     "height": 102
    },
    "colab_type": "code",
    "id": "eJgKjx1l5GV8",
    "outputId": "280ca1f8-5c9e-460e-d4d2-83f6a8eae41f"
   },
   "outputs": [
    {
     "name": "stdout",
     "output_type": "stream",
     "text": [
      "Mean Absolute Error: 1.6341376202508333\n",
      "Mean Squared Error: 6.339050339687543\n",
      "Root Mean Squared Error: 2.5177470761948157\n",
      "R- Squared:  0.9067114990146383\n",
      "An error rate:  0.1584385549175518\n"
     ]
    }
   ],
   "source": [
    "print('Mean Absolute Error:', metrics.mean_absolute_error(y_test, y_pred))  \n",
    "print('Mean Squared Error:', metrics.mean_squared_error(y_test, y_pred))  \n",
    "print('Root Mean Squared Error:', np.sqrt(metrics.mean_squared_error(y_test, y_pred)))\n",
    "print(\"R- Squared: \" , model.rsquared)\n",
    "print(\"An error rate: \" ,np.sqrt(metrics.mean_squared_error(y_test, y_pred)) / np.mean(y_test))"
   ]
  },
  {
   "cell_type": "markdown",
   "metadata": {
    "colab_type": "text",
    "id": "M1ajqtOywT0t"
   },
   "source": [
    "From the output above, the coefficients table shows the beta coefficient estimates and their significance levels. Columns are:\n",
    "\n",
    "Estimate: the intercept (b0) and the beta coefficient estimates associated to each predictor variable\n",
    "\n",
    "predictionsStd.Error: the standard error of the coefficient estimates. This represents the accuracy of the coefficients. The larger the standard error, the less confident we are about the estimate.\n",
    "\n",
    "\n",
    "t value: the t-statistic, which is the coefficient estimate (column 2) divided by the standard error of the estimate (column 3)\n",
    "Pr(>|t|): The p-value corresponding to the t-statistic. The smaller the p-value, the more significant the estimate is."
   ]
  },
  {
   "cell_type": "code",
   "execution_count": 19,
   "metadata": {
    "colab": {
     "base_uri": "https://localhost:8080/",
     "height": 102
    },
    "colab_type": "code",
    "id": "H0PUIPzg8fYd",
    "outputId": "b4bcd6ce-97e8-43ae-8947-b47d5b8c593b"
   },
   "outputs": [
    {
     "data": {
      "text/plain": [
       "const        3.593872\n",
       "youtube      0.044584\n",
       "facebook     0.196497\n",
       "newspaper   -0.002781\n",
       "dtype: float64"
      ]
     },
     "execution_count": 19,
     "metadata": {},
     "output_type": "execute_result"
    }
   ],
   "source": [
    "model.params"
   ]
  },
  {
   "cell_type": "markdown",
   "metadata": {
    "colab_type": "text",
    "id": "YBjnnOY2bv9f"
   },
   "source": [
    "## Interpretation\n",
    "\n",
    "\n",
    "\n",
    "The first step in interpreting the multiple regression analysis is to examine the F-statistic and the associated p-value, at the bottom of model summary.\n",
    "\n",
    "In our example, it can be seen that p-value of the F-statistic is < 2.2e-16, which is highly significant. This means that, at least, one of the predictor variables is significantly related to the outcome variable.\n",
    "\n",
    "To see which predictor variables are significant, you can examine the coefficients table, which shows the estimate of regression beta coefficients and the associated t-statitic p-values:"
   ]
  },
  {
   "cell_type": "markdown",
   "metadata": {
    "colab_type": "text",
    "id": "Vpw7ssz5Kqyf"
   },
   "source": [
    "Note that, if you have many predictor variables in your data, you can simply include all the available variables in the model using ~.:"
   ]
  },
  {
   "cell_type": "markdown",
   "metadata": {
    "colab_type": "text",
    "id": "OVwn13lCuFux"
   },
   "source": [
    "because newspaper does not have significat p-value, we remove it.\n",
    "\n",
    "our model equation can be written as follow\n",
    "\n",
    "\n",
    "sales = 3.52 + 0.046 * youtube + 0.188 * facebook -0.001 * newspaper"
   ]
  },
  {
   "cell_type": "markdown",
   "metadata": {
    "colab_type": "text",
    "id": "idY70qghMCvN"
   },
   "source": [
    "## Discussion\n",
    "This chapter describes the basics of linear regression and provides practical examples in R for computing simple and multiple linear regression models. We also described how to assess the performance of the model for predictions.\n",
    "\n",
    "Note that, linear regression assumes a linear relationship between the outcome and the predictor variables. This can be easily checked by creating a scatter plot of the outcome variable vs the predictor variable.\n",
    "\n",
    "For example, the following R code displays sales units versus youtube advertising budget. We’ll also add a smoothed line:"
   ]
  },
  {
   "cell_type": "markdown",
   "metadata": {},
   "source": [
    "## Confidence interval\n",
    "The confidence interval reflects the uncertainty around the mean predictions. To display the 95% confidence intervals around the mean the predictions, specify the option interval = \"confidence\":"
   ]
  },
  {
   "cell_type": "markdown",
   "metadata": {},
   "source": [
    "## Prediction interval\n",
    "The prediction interval gives uncertainty around a single value. In the same way, as the confidence intervals, the prediction intervals can be computed as follow:"
   ]
  },
  {
   "cell_type": "markdown",
   "metadata": {},
   "source": [
    "Which one should we use? The answer to this question depends on the context and the purpose of the analysis. Generally, we are interested in specific individual predictions, so a prediction interval would be more appropriate. Using a confidence interval when you should be using a prediction interval will greatly underestimate the uncertainty in a given predicted value (P. Bruce and Bruce 2017)."
   ]
  },
  {
   "cell_type": "markdown",
   "metadata": {},
   "source": [
    "# Importing Libraries"
   ]
  },
  {
   "cell_type": "code",
   "execution_count": 2,
   "metadata": {},
   "outputs": [
    {
     "data": {
      "text/html": [
       "<div>\n",
       "<style scoped>\n",
       "    .dataframe tbody tr th:only-of-type {\n",
       "        vertical-align: middle;\n",
       "    }\n",
       "\n",
       "    .dataframe tbody tr th {\n",
       "        vertical-align: top;\n",
       "    }\n",
       "\n",
       "    .dataframe thead th {\n",
       "        text-align: right;\n",
       "    }\n",
       "</style>\n",
       "<table border=\"1\" class=\"dataframe\">\n",
       "  <thead>\n",
       "    <tr style=\"text-align: right;\">\n",
       "      <th></th>\n",
       "      <th>crim</th>\n",
       "      <th>zn</th>\n",
       "      <th>indus</th>\n",
       "      <th>chas</th>\n",
       "      <th>nox</th>\n",
       "      <th>rm</th>\n",
       "      <th>age</th>\n",
       "      <th>dis</th>\n",
       "      <th>rad</th>\n",
       "      <th>tax</th>\n",
       "      <th>ptratio</th>\n",
       "      <th>black</th>\n",
       "      <th>lstat</th>\n",
       "      <th>medv</th>\n",
       "    </tr>\n",
       "  </thead>\n",
       "  <tbody>\n",
       "    <tr>\n",
       "      <th>1</th>\n",
       "      <td>0.00632</td>\n",
       "      <td>18.0</td>\n",
       "      <td>2.31</td>\n",
       "      <td>0</td>\n",
       "      <td>0.538</td>\n",
       "      <td>6.575</td>\n",
       "      <td>65.2</td>\n",
       "      <td>4.0900</td>\n",
       "      <td>1</td>\n",
       "      <td>296</td>\n",
       "      <td>15.3</td>\n",
       "      <td>396.90</td>\n",
       "      <td>4.98</td>\n",
       "      <td>24.0</td>\n",
       "    </tr>\n",
       "    <tr>\n",
       "      <th>2</th>\n",
       "      <td>0.02731</td>\n",
       "      <td>0.0</td>\n",
       "      <td>7.07</td>\n",
       "      <td>0</td>\n",
       "      <td>0.469</td>\n",
       "      <td>6.421</td>\n",
       "      <td>78.9</td>\n",
       "      <td>4.9671</td>\n",
       "      <td>2</td>\n",
       "      <td>242</td>\n",
       "      <td>17.8</td>\n",
       "      <td>396.90</td>\n",
       "      <td>9.14</td>\n",
       "      <td>21.6</td>\n",
       "    </tr>\n",
       "    <tr>\n",
       "      <th>3</th>\n",
       "      <td>0.02729</td>\n",
       "      <td>0.0</td>\n",
       "      <td>7.07</td>\n",
       "      <td>0</td>\n",
       "      <td>0.469</td>\n",
       "      <td>7.185</td>\n",
       "      <td>61.1</td>\n",
       "      <td>4.9671</td>\n",
       "      <td>2</td>\n",
       "      <td>242</td>\n",
       "      <td>17.8</td>\n",
       "      <td>392.83</td>\n",
       "      <td>4.03</td>\n",
       "      <td>34.7</td>\n",
       "    </tr>\n",
       "    <tr>\n",
       "      <th>4</th>\n",
       "      <td>0.03237</td>\n",
       "      <td>0.0</td>\n",
       "      <td>2.18</td>\n",
       "      <td>0</td>\n",
       "      <td>0.458</td>\n",
       "      <td>6.998</td>\n",
       "      <td>45.8</td>\n",
       "      <td>6.0622</td>\n",
       "      <td>3</td>\n",
       "      <td>222</td>\n",
       "      <td>18.7</td>\n",
       "      <td>394.63</td>\n",
       "      <td>2.94</td>\n",
       "      <td>33.4</td>\n",
       "    </tr>\n",
       "    <tr>\n",
       "      <th>5</th>\n",
       "      <td>0.06905</td>\n",
       "      <td>0.0</td>\n",
       "      <td>2.18</td>\n",
       "      <td>0</td>\n",
       "      <td>0.458</td>\n",
       "      <td>7.147</td>\n",
       "      <td>54.2</td>\n",
       "      <td>6.0622</td>\n",
       "      <td>3</td>\n",
       "      <td>222</td>\n",
       "      <td>18.7</td>\n",
       "      <td>396.90</td>\n",
       "      <td>5.33</td>\n",
       "      <td>36.2</td>\n",
       "    </tr>\n",
       "  </tbody>\n",
       "</table>\n",
       "</div>"
      ],
      "text/plain": [
       "      crim    zn  indus  chas    nox     rm   age     dis  rad  tax  ptratio  \\\n",
       "1  0.00632  18.0   2.31     0  0.538  6.575  65.2  4.0900    1  296     15.3   \n",
       "2  0.02731   0.0   7.07     0  0.469  6.421  78.9  4.9671    2  242     17.8   \n",
       "3  0.02729   0.0   7.07     0  0.469  7.185  61.1  4.9671    2  242     17.8   \n",
       "4  0.03237   0.0   2.18     0  0.458  6.998  45.8  6.0622    3  222     18.7   \n",
       "5  0.06905   0.0   2.18     0  0.458  7.147  54.2  6.0622    3  222     18.7   \n",
       "\n",
       "    black  lstat  medv  \n",
       "1  396.90   4.98  24.0  \n",
       "2  396.90   9.14  21.6  \n",
       "3  392.83   4.03  34.7  \n",
       "4  394.63   2.94  33.4  \n",
       "5  396.90   5.33  36.2  "
      ]
     },
     "execution_count": 2,
     "metadata": {},
     "output_type": "execute_result"
    }
   ],
   "source": [
    "# Tells matplotlib to display images inline instead of a new window\n",
    "%matplotlib inline\n",
    "\n",
    "import numpy as np\n",
    "import pandas as pd\n",
    "import statsmodels.api as sm\n",
    "df = pd.read_csv('./data/Boston.csv', index_col=0)\n",
    "df.head()"
   ]
  },
  {
   "cell_type": "markdown",
   "metadata": {},
   "source": [
    "# Simple Linear Regression"
   ]
  },
  {
   "cell_type": "code",
   "execution_count": 3,
   "metadata": {},
   "outputs": [
    {
     "name": "stdout",
     "output_type": "stream",
     "text": [
      "                            OLS Regression Results                            \n",
      "==============================================================================\n",
      "Dep. Variable:                   medv   R-squared:                       0.544\n",
      "Model:                            OLS   Adj. R-squared:                  0.543\n",
      "Method:                 Least Squares   F-statistic:                     601.6\n",
      "Date:                Wed, 15 Jul 2020   Prob (F-statistic):           5.08e-88\n",
      "Time:                        21:11:15   Log-Likelihood:                -1641.5\n",
      "No. Observations:                 506   AIC:                             3287.\n",
      "Df Residuals:                     504   BIC:                             3295.\n",
      "Df Model:                           1                                         \n",
      "Covariance Type:            nonrobust                                         \n",
      "==============================================================================\n",
      "                 coef    std err          t      P>|t|      [0.025      0.975]\n",
      "------------------------------------------------------------------------------\n",
      "Intercept     34.5538      0.563     61.415      0.000      33.448      35.659\n",
      "lstat         -0.9500      0.039    -24.528      0.000      -1.026      -0.874\n",
      "==============================================================================\n",
      "Omnibus:                      137.043   Durbin-Watson:                   0.892\n",
      "Prob(Omnibus):                  0.000   Jarque-Bera (JB):              291.373\n",
      "Skew:                           1.453   Prob(JB):                     5.36e-64\n",
      "Kurtosis:                       5.319   Cond. No.                         29.7\n",
      "==============================================================================\n",
      "\n",
      "Warnings:\n",
      "[1] Standard Errors assume that the covariance matrix of the errors is correctly specified.\n"
     ]
    }
   ],
   "source": [
    "lm = sm.OLS.from_formula('medv ~ lstat', df)\n",
    "result = lm.fit()\n",
    "print(result.summary())"
   ]
  },
  {
   "cell_type": "markdown",
   "metadata": {},
   "source": [
    "Want individual attributes? You can access them independently like this"
   ]
  },
  {
   "cell_type": "code",
   "execution_count": 5,
   "metadata": {},
   "outputs": [
    {
     "data": {
      "text/plain": [
       "(0.5441462975864797, 601.6178711098953, 34.5538408793831, -0.950049353757991)"
      ]
     },
     "execution_count": 5,
     "metadata": {},
     "output_type": "execute_result"
    }
   ],
   "source": [
    "result.rsquared, result.fvalue, result.params.Intercept, result.params.lstat"
   ]
  },
  {
   "cell_type": "markdown",
   "metadata": {},
   "source": [
    "For a complete list of attributes and methods of a ${\\tt RegressionResults}$ object, see: http://statsmodels.sourceforge.net/devel/generated/statsmodels.regression.linear_model.RegressionResults.html?highlight=regressionresults\n",
    "\n",
    "Now let's try making some predictions using this model. First, we'll set up a dataframe containing the ${\\tt lstat}$ values for which we want to predict a response:"
   ]
  },
  {
   "cell_type": "code",
   "execution_count": 6,
   "metadata": {},
   "outputs": [
    {
     "data": {
      "text/plain": [
       "0    29.803594\n",
       "1    25.053347\n",
       "2    20.303101\n",
       "dtype: float64"
      ]
     },
     "execution_count": 6,
     "metadata": {},
     "output_type": "execute_result"
    }
   ],
   "source": [
    "new = pd.DataFrame([[1, 5], [1, 10], [1, 15]], columns=['Intercept', 'lstat'])\n",
    "result.predict(new)"
   ]
  },
  {
   "cell_type": "code",
   "execution_count": 8,
   "metadata": {},
   "outputs": [
    {
     "data": {
      "text/html": [
       "<div>\n",
       "<style scoped>\n",
       "    .dataframe tbody tr th:only-of-type {\n",
       "        vertical-align: middle;\n",
       "    }\n",
       "\n",
       "    .dataframe tbody tr th {\n",
       "        vertical-align: top;\n",
       "    }\n",
       "\n",
       "    .dataframe thead th {\n",
       "        text-align: right;\n",
       "    }\n",
       "</style>\n",
       "<table border=\"1\" class=\"dataframe\">\n",
       "  <thead>\n",
       "    <tr style=\"text-align: right;\">\n",
       "      <th></th>\n",
       "      <th>fit</th>\n",
       "      <th>lower</th>\n",
       "      <th>upper</th>\n",
       "    </tr>\n",
       "  </thead>\n",
       "  <tbody>\n",
       "    <tr>\n",
       "      <th>0</th>\n",
       "      <td>29.803594</td>\n",
       "      <td>28.317716</td>\n",
       "      <td>31.289472</td>\n",
       "    </tr>\n",
       "    <tr>\n",
       "      <th>1</th>\n",
       "      <td>25.053347</td>\n",
       "      <td>23.186975</td>\n",
       "      <td>26.919720</td>\n",
       "    </tr>\n",
       "    <tr>\n",
       "      <th>2</th>\n",
       "      <td>20.303101</td>\n",
       "      <td>18.056234</td>\n",
       "      <td>22.549967</td>\n",
       "    </tr>\n",
       "  </tbody>\n",
       "</table>\n",
       "</div>"
      ],
      "text/plain": [
       "         fit      lower      upper\n",
       "0  29.803594  28.317716  31.289472\n",
       "1  25.053347  23.186975  26.919720\n",
       "2  20.303101  18.056234  22.549967"
      ]
     },
     "execution_count": 8,
     "metadata": {},
     "output_type": "execute_result"
    }
   ],
   "source": [
    "# Technically those are the right prediction values, but maybe it would be good to have the confidence intervals along with them. \n",
    "# Let's write a little helper function to get that and package it all up:\n",
    "def predict(res, new):\n",
    "    \n",
    "    # Get the predicted values\n",
    "    fit = pd.DataFrame(res.predict(new), columns=['fit'])\n",
    "    \n",
    "    # Get the confidence interval for the model (and rename the columns to something a bit more useful)\n",
    "    ci = res.conf_int().rename(columns={0: 'lower', 1: 'upper'})\n",
    "    \n",
    "    # Now a little bit of matrix multiplication to get the confidence intervals for the predictions\n",
    "    ci = ci.T.dot(new.T).T\n",
    "    \n",
    "    # And finally wrap up the confidence intervals with the predicted values\n",
    "    return pd.concat([fit, ci], axis=1)\n",
    "predict(result, new)"
   ]
  },
  {
   "cell_type": "code",
   "execution_count": 9,
   "metadata": {},
   "outputs": [
    {
     "data": {
      "text/plain": [
       "<matplotlib.axes._subplots.AxesSubplot at 0x7f67054af290>"
      ]
     },
     "execution_count": 9,
     "metadata": {},
     "output_type": "execute_result"
    },
    {
     "data": {
      "image/png": "[encoded data removed]",
      "text/plain": [
       "<Figure size 432x288 with 1 Axes>"
      ]
     },
     "metadata": {
      "needs_background": "light"
     },
     "output_type": "display_data"
    }
   ],
   "source": [
    "import seaborn as sns\n",
    "sns.regplot('lstat', 'medv', df, line_kws = {\"color\":\"r\"}, ci=None)\n",
    "fitted_values = pd.Series(result.fittedvalues, name=\"Fitted Values\")\n",
    "residuals = pd.Series(result.resid, name=\"Residuals\")\n",
    "sns.regplot(fitted_values, residuals, fit_reg=False)"
   ]
  },
  {
   "cell_type": "code",
   "execution_count": 11,
   "metadata": {},
   "outputs": [
    {
     "data": {
      "text/plain": [
       "<matplotlib.axes._subplots.AxesSubplot at 0x7f6705289f50>"
      ]
     },
     "execution_count": 11,
     "metadata": {},
     "output_type": "execute_result"
    },
    {
     "data": {
      "image/png": "[encoded data removed]",
      "text/plain": [
       "<Figure size 432x288 with 1 Axes>"
      ]
     },
     "metadata": {
      "needs_background": "light"
     },
     "output_type": "display_data"
    }
   ],
   "source": [
    "from statsmodels.stats.outliers_influence import OLSInfluence\n",
    "s_residuals = pd.Series(result.resid_pearson, name=\"S. Residuals\")\n",
    "sns.regplot(fitted_values, s_residuals,  fit_reg=False)\n",
    "leverage = pd.Series(OLSInfluence(result).influence, name = \"Leverage\")\n",
    "sns.regplot(leverage, s_residuals,  fit_reg=False)"
   ]
  },
  {
   "cell_type": "markdown",
   "metadata": {},
   "source": [
    "#  Multiple Linear Regression\n",
    "In order to fit a multiple linear regression model using least squares, we again use the ${\\tt from\\_formula()}$ function. The syntax ${\\tt from\\_formula(y∼x1+x2+x3)}$ is used to fit a model with three predictors, $x1$, $x2$, and $x3$. The ${\\tt summary()}$ function now outputs the regression coefficients for all the predictors."
   ]
  },
  {
   "cell_type": "code",
   "execution_count": 12,
   "metadata": {},
   "outputs": [
    {
     "name": "stdout",
     "output_type": "stream",
     "text": [
      "                            OLS Regression Results                            \n",
      "==============================================================================\n",
      "Dep. Variable:                   medv   R-squared:                       0.551\n",
      "Model:                            OLS   Adj. R-squared:                  0.549\n",
      "Method:                 Least Squares   F-statistic:                     309.0\n",
      "Date:                Wed, 15 Jul 2020   Prob (F-statistic):           2.98e-88\n",
      "Time:                        21:39:33   Log-Likelihood:                -1637.5\n",
      "No. Observations:                 506   AIC:                             3281.\n",
      "Df Residuals:                     503   BIC:                             3294.\n",
      "Df Model:                           2                                         \n",
      "Covariance Type:            nonrobust                                         \n",
      "==============================================================================\n",
      "                 coef    std err          t      P>|t|      [0.025      0.975]\n",
      "------------------------------------------------------------------------------\n",
      "Intercept     33.2228      0.731     45.458      0.000      31.787      34.659\n",
      "lstat         -1.0321      0.048    -21.416      0.000      -1.127      -0.937\n",
      "age            0.0345      0.012      2.826      0.005       0.011       0.059\n",
      "==============================================================================\n",
      "Omnibus:                      124.288   Durbin-Watson:                   0.945\n",
      "Prob(Omnibus):                  0.000   Jarque-Bera (JB):              244.026\n",
      "Skew:                           1.362   Prob(JB):                     1.02e-53\n",
      "Kurtosis:                       5.038   Cond. No.                         201.\n",
      "==============================================================================\n",
      "\n",
      "Warnings:\n",
      "[1] Standard Errors assume that the covariance matrix of the errors is correctly specified.\n"
     ]
    }
   ],
   "source": [
    "model = sm.OLS.from_formula('medv ~ lstat + age', df)\n",
    "result = model.fit()\n",
    "print(result.summary())"
   ]
  },
  {
   "cell_type": "code",
   "execution_count": 14,
   "metadata": {},
   "outputs": [
    {
     "name": "stdout",
     "output_type": "stream",
     "text": [
      "                            OLS Regression Results                            \n",
      "==============================================================================\n",
      "Dep. Variable:                   medv   R-squared:                       0.741\n",
      "Model:                            OLS   Adj. R-squared:                  0.734\n",
      "Method:                 Least Squares   F-statistic:                     108.1\n",
      "Date:                Wed, 15 Jul 2020   Prob (F-statistic):          6.72e-135\n",
      "Time:                        21:39:55   Log-Likelihood:                -1498.8\n",
      "No. Observations:                 506   AIC:                             3026.\n",
      "Df Residuals:                     492   BIC:                             3085.\n",
      "Df Model:                          13                                         \n",
      "Covariance Type:            nonrobust                                         \n",
      "==============================================================================\n",
      "                 coef    std err          t      P>|t|      [0.025      0.975]\n",
      "------------------------------------------------------------------------------\n",
      "Intercept     36.4595      5.103      7.144      0.000      26.432      46.487\n",
      "age            0.0007      0.013      0.052      0.958      -0.025       0.027\n",
      "black          0.0093      0.003      3.467      0.001       0.004       0.015\n",
      "chas           2.6867      0.862      3.118      0.002       0.994       4.380\n",
      "crim          -0.1080      0.033     -3.287      0.001      -0.173      -0.043\n",
      "dis           -1.4756      0.199     -7.398      0.000      -1.867      -1.084\n",
      "indus          0.0206      0.061      0.334      0.738      -0.100       0.141\n",
      "lstat         -0.5248      0.051    -10.347      0.000      -0.624      -0.425\n",
      "nox          -17.7666      3.820     -4.651      0.000     -25.272     -10.262\n",
      "ptratio       -0.9527      0.131     -7.283      0.000      -1.210      -0.696\n",
      "rad            0.3060      0.066      4.613      0.000       0.176       0.436\n",
      "rm             3.8099      0.418      9.116      0.000       2.989       4.631\n",
      "tax           -0.0123      0.004     -3.280      0.001      -0.020      -0.005\n",
      "zn             0.0464      0.014      3.382      0.001       0.019       0.073\n",
      "==============================================================================\n",
      "Omnibus:                      178.041   Durbin-Watson:                   1.078\n",
      "Prob(Omnibus):                  0.000   Jarque-Bera (JB):              783.126\n",
      "Skew:                           1.521   Prob(JB):                    8.84e-171\n",
      "Kurtosis:                       8.281   Cond. No.                     1.51e+04\n",
      "==============================================================================\n",
      "\n",
      "Warnings:\n",
      "[1] Standard Errors assume that the covariance matrix of the errors is correctly specified.\n",
      "[2] The condition number is large, 1.51e+04. This might indicate that there are\n",
      "strong multicollinearity or other numerical problems.\n"
     ]
    }
   ],
   "source": [
    "# All columns (except medv, which is our response)\n",
    "model = sm.OLS.from_formula('medv ~ ' + '+'.join(df.columns.difference(['medv'])), df)\n",
    "result = model.fit()\n",
    "print (result.summary())"
   ]
  },
  {
   "cell_type": "code",
   "execution_count": 16,
   "metadata": {},
   "outputs": [
    {
     "name": "stdout",
     "output_type": "stream",
     "text": [
      "                            OLS Regression Results                            \n",
      "==============================================================================\n",
      "Dep. Variable:                   medv   R-squared:                       0.741\n",
      "Model:                            OLS   Adj. R-squared:                  0.735\n",
      "Method:                 Least Squares   F-statistic:                     128.2\n",
      "Date:                Wed, 15 Jul 2020   Prob (F-statistic):          5.54e-137\n",
      "Time:                        21:40:32   Log-Likelihood:                -1498.9\n",
      "No. Observations:                 506   AIC:                             3022.\n",
      "Df Residuals:                     494   BIC:                             3072.\n",
      "Df Model:                          11                                         \n",
      "Covariance Type:            nonrobust                                         \n",
      "==============================================================================\n",
      "                 coef    std err          t      P>|t|      [0.025      0.975]\n",
      "------------------------------------------------------------------------------\n",
      "Intercept     36.3411      5.067      7.171      0.000      26.385      46.298\n",
      "black          0.0093      0.003      3.475      0.001       0.004       0.015\n",
      "chas           2.7187      0.854      3.183      0.002       1.040       4.397\n",
      "crim          -0.1084      0.033     -3.307      0.001      -0.173      -0.044\n",
      "dis           -1.4927      0.186     -8.037      0.000      -1.858      -1.128\n",
      "lstat         -0.5226      0.047    -11.019      0.000      -0.616      -0.429\n",
      "nox          -17.3760      3.535     -4.915      0.000     -24.322     -10.430\n",
      "ptratio       -0.9465      0.129     -7.334      0.000      -1.200      -0.693\n",
      "rad            0.2996      0.063      4.726      0.000       0.175       0.424\n",
      "rm             3.8016      0.406      9.356      0.000       3.003       4.600\n",
      "tax           -0.0118      0.003     -3.493      0.001      -0.018      -0.005\n",
      "zn             0.0458      0.014      3.390      0.001       0.019       0.072\n",
      "==============================================================================\n",
      "Omnibus:                      178.430   Durbin-Watson:                   1.078\n",
      "Prob(Omnibus):                  0.000   Jarque-Bera (JB):              787.785\n",
      "Skew:                           1.523   Prob(JB):                    8.60e-172\n",
      "Kurtosis:                       8.300   Cond. No.                     1.47e+04\n",
      "==============================================================================\n",
      "\n",
      "Warnings:\n",
      "[1] Standard Errors assume that the covariance matrix of the errors is correctly specified.\n",
      "[2] The condition number is large, 1.47e+04. This might indicate that there are\n",
      "strong multicollinearity or other numerical problems.\n"
     ]
    }
   ],
   "source": [
    "# All columns (except medv)\n",
    "model = sm.OLS.from_formula('medv ~ ' + '+'.join(df.columns.difference(['medv', 'age', 'indus'])), df)\n",
    "result = model.fit()\n",
    "print (result.summary())"
   ]
  },
  {
   "cell_type": "markdown",
   "metadata": {},
   "source": [
    "#  Interaction Terms\n",
    "\n",
    "It is easy to include interaction terms in a linear model using the ${\\tt .from\\_formula()}$ function. The syntax ${\\tt lstat:black}$ tells Python to include an interaction term between ${\\tt lstat}$ and ${\\tt black}$. The syntax ${\\tt lstat*age}$ simultaneously includes ${\\tt lstat}$, ${\\tt age}$, and the interaction term ${\\tt lstat×age}$ as predictors; it is a shorthand for ${\\tt lstat+age+lstat:age}$.\n",
    "\n"
   ]
  },
  {
   "cell_type": "code",
   "execution_count": 19,
   "metadata": {},
   "outputs": [
    {
     "name": "stdout",
     "output_type": "stream",
     "text": [
      "                            OLS Regression Results                            \n",
      "==============================================================================\n",
      "Dep. Variable:                   medv   R-squared:                       0.556\n",
      "Model:                            OLS   Adj. R-squared:                  0.553\n",
      "Method:                 Least Squares   F-statistic:                     209.3\n",
      "Date:                Wed, 15 Jul 2020   Prob (F-statistic):           4.86e-88\n",
      "Time:                        21:41:24   Log-Likelihood:                -1635.0\n",
      "No. Observations:                 506   AIC:                             3278.\n",
      "Df Residuals:                     502   BIC:                             3295.\n",
      "Df Model:                           3                                         \n",
      "Covariance Type:            nonrobust                                         \n",
      "==============================================================================\n",
      "                 coef    std err          t      P>|t|      [0.025      0.975]\n",
      "------------------------------------------------------------------------------\n",
      "Intercept     36.0885      1.470     24.553      0.000      33.201      38.976\n",
      "lstat         -1.3921      0.167     -8.313      0.000      -1.721      -1.063\n",
      "age           -0.0007      0.020     -0.036      0.971      -0.040       0.038\n",
      "lstat:age      0.0042      0.002      2.244      0.025       0.001       0.008\n",
      "==============================================================================\n",
      "Omnibus:                      135.601   Durbin-Watson:                   0.965\n",
      "Prob(Omnibus):                  0.000   Jarque-Bera (JB):              296.955\n",
      "Skew:                           1.417   Prob(JB):                     3.29e-65\n",
      "Kurtosis:                       5.461   Cond. No.                     6.88e+03\n",
      "==============================================================================\n",
      "\n",
      "Warnings:\n",
      "[1] Standard Errors assume that the covariance matrix of the errors is correctly specified.\n",
      "[2] The condition number is large, 6.88e+03. This might indicate that there are\n",
      "strong multicollinearity or other numerical problems.\n"
     ]
    }
   ],
   "source": [
    "print(sm.OLS.from_formula('medv ~ lstat*age', df).fit().summary())"
   ]
  },
  {
   "cell_type": "markdown",
   "metadata": {},
   "source": [
    "# Non-linear Transformations of the Predictors\n",
    "\n",
    "The ${\\tt .from\\_formula()}$ function can also accommodate non-linear transformations of the predictors. For instance, given a predictor ${\\tt X}$, we can create a predictor ${\\tt X^\\wedge2}$ using ${\\tt np.square(X)}$. We now perform a regression of ${\\tt medv}$ onto ${\\tt lstat}$ and ${\\tt lstat^\\wedge 2}$."
   ]
  },
  {
   "cell_type": "code",
   "execution_count": 20,
   "metadata": {},
   "outputs": [
    {
     "name": "stdout",
     "output_type": "stream",
     "text": [
      "                            OLS Regression Results                            \n",
      "==============================================================================\n",
      "Dep. Variable:                   medv   R-squared:                       0.641\n",
      "Model:                            OLS   Adj. R-squared:                  0.639\n",
      "Method:                 Least Squares   F-statistic:                     448.5\n",
      "Date:                Wed, 15 Jul 2020   Prob (F-statistic):          1.56e-112\n",
      "Time:                        21:42:22   Log-Likelihood:                -1581.3\n",
      "No. Observations:                 506   AIC:                             3169.\n",
      "Df Residuals:                     503   BIC:                             3181.\n",
      "Df Model:                           2                                         \n",
      "Covariance Type:            nonrobust                                         \n",
      "====================================================================================\n",
      "                       coef    std err          t      P>|t|      [0.025      0.975]\n",
      "------------------------------------------------------------------------------------\n",
      "Intercept           42.8620      0.872     49.149      0.000      41.149      44.575\n",
      "lstat               -2.3328      0.124    -18.843      0.000      -2.576      -2.090\n",
      "np.square(lstat)     0.0435      0.004     11.628      0.000       0.036       0.051\n",
      "==============================================================================\n",
      "Omnibus:                      107.006   Durbin-Watson:                   0.921\n",
      "Prob(Omnibus):                  0.000   Jarque-Bera (JB):              228.388\n",
      "Skew:                           1.128   Prob(JB):                     2.55e-50\n",
      "Kurtosis:                       5.397   Cond. No.                     1.13e+03\n",
      "==============================================================================\n",
      "\n",
      "Warnings:\n",
      "[1] Standard Errors assume that the covariance matrix of the errors is correctly specified.\n",
      "[2] The condition number is large, 1.13e+03. This might indicate that there are\n",
      "strong multicollinearity or other numerical problems.\n"
     ]
    }
   ],
   "source": [
    "lm.fit2 = sm.OLS.from_formula('medv ~ lstat + np.square(lstat)', df).fit()\n",
    "print (lm.fit2.summary())"
   ]
  },
  {
   "cell_type": "markdown",
   "metadata": {},
   "source": [
    "The near-zero p-value associated with the quadratic term suggests that it leads to an improved model. We use the ${\\tt anova\\_lm()}$ function to further quantify the extent to which the quadratic fit is superior to the linear fit."
   ]
  },
  {
   "cell_type": "code",
   "execution_count": 22,
   "metadata": {},
   "outputs": [
    {
     "name": "stdout",
     "output_type": "stream",
     "text": [
      "   df_resid           ssr  df_diff     ss_diff           F        Pr(>F)\n",
      "0     504.0  19472.381418      0.0         NaN         NaN           NaN\n",
      "1     503.0  15347.243158      1.0  4125.13826  135.199822  7.630116e-28\n"
     ]
    },
    {
     "name": "stderr",
     "output_type": "stream",
     "text": [
      "/home/alinemati/anaconda3/envs/tensorflow/lib/python3.7/site-packages/scipy/stats/_distn_infrastructure.py:1932: RuntimeWarning: invalid value encountered in less_equal\n",
      "  cond2 = cond0 & (x <= _a)\n"
     ]
    }
   ],
   "source": [
    "lm.fit = sm.OLS.from_formula('medv ~ lstat', df).fit()\n",
    "print(sm.stats.anova_lm(lm.fit, lm.fit2))"
   ]
  },
  {
   "cell_type": "markdown",
   "metadata": {},
   "source": [
    "Here Model 0 represents the linear submodel containing only one predictor, ${\\tt lstat}$, while Model 1 corresponds to the larger quadraticmodel that has two predictors, ${\\tt lstat}$ and ${\\tt lstat2}$. The ${\\tt anova\\_lm()}$ function performs a hypothesis test comparing the two models. The null hypothesis is that the two models fit the data equally well, and the alternative hypothesis is that the full model is superior. \n",
    "\n",
    "The F-statistic is 135 and the associated p-value is virtually zero. This provides very clear evidence that the model containing the predictors ${\\tt lstat}$ and ${\\tt lstat2}$ is far superior to the model that only contains the predictor ${\\tt lstat}$. This is not surprising, since earlier we saw evidence for non-linearity in the relationship between ${\\tt medv}$ and ${\\tt lstat}$. \n",
    "\n",
    "If we type:"
   ]
  },
  {
   "cell_type": "code",
   "execution_count": 23,
   "metadata": {},
   "outputs": [
    {
     "data": {
      "text/plain": [
       "<matplotlib.axes._subplots.AxesSubplot at 0x7f6704052350>"
      ]
     },
     "execution_count": 23,
     "metadata": {},
     "output_type": "execute_result"
    },
    {
     "data": {
      "image/png": "[encoded data removed]",
      "text/plain": [
       "<Figure size 432x288 with 1 Axes>"
      ]
     },
     "metadata": {
      "needs_background": "light"
     },
     "output_type": "display_data"
    }
   ],
   "source": [
    "fitted_values = pd.Series(lm.fit2.fittedvalues, name=\"Fitted Values\")\n",
    "residuals = pd.Series(lm.fit2.resid, name=\"S. Residuals\")\n",
    "sns.regplot(fitted_values, s_residuals,  fit_reg=False)"
   ]
  },
  {
   "cell_type": "markdown",
   "metadata": {},
   "source": [
    "then we see that when the ${\\tt lstat2}$ term is included in the model, there is little discernible pattern in the residuals.\n",
    "\n",
    "In order to create a cubic fit, we can include a predictor of the form ${\\tt np.power(x, 3))}$. However, this approach can start to get cumbersome for higher order polynomials. A better approach involves using list comprehension inside a ${\\tt .join()}$. For example, the following command produces a fifth-order polynomial fit:"
   ]
  },
  {
   "cell_type": "code",
   "execution_count": 25,
   "metadata": {},
   "outputs": [
    {
     "name": "stdout",
     "output_type": "stream",
     "text": [
      "                            OLS Regression Results                            \n",
      "==============================================================================\n",
      "Dep. Variable:                   medv   R-squared:                       0.682\n",
      "Model:                            OLS   Adj. R-squared:                  0.679\n",
      "Method:                 Least Squares   F-statistic:                     214.2\n",
      "Date:                Wed, 15 Jul 2020   Prob (F-statistic):          8.73e-122\n",
      "Time:                        21:48:15   Log-Likelihood:                -1550.6\n",
      "No. Observations:                 506   AIC:                             3113.\n",
      "Df Residuals:                     500   BIC:                             3139.\n",
      "Df Model:                           5                                         \n",
      "Covariance Type:            nonrobust                                         \n",
      "======================================================================================\n",
      "                         coef    std err          t      P>|t|      [0.025      0.975]\n",
      "--------------------------------------------------------------------------------------\n",
      "Intercept             67.6997      3.604     18.783      0.000      60.618      74.781\n",
      "np.power(lstat, 1)   -11.9911      1.526     -7.859      0.000     -14.989      -8.994\n",
      "np.power(lstat, 2)     1.2728      0.223      5.703      0.000       0.834       1.711\n",
      "np.power(lstat, 3)    -0.0683      0.014     -4.747      0.000      -0.097      -0.040\n",
      "np.power(lstat, 4)     0.0017      0.000      4.143      0.000       0.001       0.003\n",
      "np.power(lstat, 5) -1.632e-05   4.42e-06     -3.692      0.000    -2.5e-05   -7.63e-06\n",
      "==============================================================================\n",
      "Omnibus:                      144.085   Durbin-Watson:                   0.987\n",
      "Prob(Omnibus):                  0.000   Jarque-Bera (JB):              494.545\n",
      "Skew:                           1.292   Prob(JB):                    4.08e-108\n",
      "Kurtosis:                       7.096   Cond. No.                     1.37e+08\n",
      "==============================================================================\n",
      "\n",
      "Warnings:\n",
      "[1] Standard Errors assume that the covariance matrix of the errors is correctly specified.\n",
      "[2] The condition number is large, 1.37e+08. This might indicate that there are\n",
      "strong multicollinearity or other numerical problems.\n"
     ]
    }
   ],
   "source": [
    "print(sm.OLS.from_formula('medv ~ ' + '+'.join(['np.power(lstat,' + str(i) + ')' for i in range(1,6)]), df).fit().summary())"
   ]
  },
  {
   "cell_type": "code",
   "execution_count": 26,
   "metadata": {},
   "outputs": [
    {
     "name": "stdout",
     "output_type": "stream",
     "text": [
      "                            OLS Regression Results                            \n",
      "==============================================================================\n",
      "Dep. Variable:                   medv   R-squared:                       0.436\n",
      "Model:                            OLS   Adj. R-squared:                  0.435\n",
      "Method:                 Least Squares   F-statistic:                     389.3\n",
      "Date:                Wed, 15 Jul 2020   Prob (F-statistic):           1.22e-64\n",
      "Time:                        21:55:41   Log-Likelihood:                -1695.4\n",
      "No. Observations:                 506   AIC:                             3395.\n",
      "Df Residuals:                     504   BIC:                             3403.\n",
      "Df Model:                           1                                         \n",
      "Covariance Type:            nonrobust                                         \n",
      "==============================================================================\n",
      "                 coef    std err          t      P>|t|      [0.025      0.975]\n",
      "------------------------------------------------------------------------------\n",
      "Intercept    -76.4878      5.028    -15.213      0.000     -86.366     -66.610\n",
      "np.log(rm)    54.0546      2.739     19.732      0.000      48.672      59.437\n",
      "==============================================================================\n",
      "Omnibus:                      117.102   Durbin-Watson:                   0.681\n",
      "Prob(Omnibus):                  0.000   Jarque-Bera (JB):              584.336\n",
      "Skew:                           0.916   Prob(JB):                    1.30e-127\n",
      "Kurtosis:                       7.936   Cond. No.                         38.9\n",
      "==============================================================================\n",
      "\n",
      "Warnings:\n",
      "[1] Standard Errors assume that the covariance matrix of the errors is correctly specified.\n"
     ]
    }
   ],
   "source": [
    "# Of course, we are in no way restricted to using polynomial transformations of the predictors. \n",
    "# Here we try a log transformation.\n",
    "print(sm.OLS.from_formula('medv ~ np.log(rm)', df).fit().summary())"
   ]
  },
  {
   "cell_type": "markdown",
   "metadata": {},
   "source": [
    "# Qualitative Predictors\n",
    "\n",
    "We will now examine the [${\\tt Carseats}$](http://www.science.smith.edu/~jcrouser/SDS293/data/Carseats.csv) data that we talked about earlier in class. We will attempt to predict ${\\tt Sales}$ (child car seat sales) in 400 locations based on a number of predictors.\n",
    "\n",
    "The ${\\tt Carseats}$ data includes qualitative predictors such as ${\\tt Shelveloc}$, an indicator of the quality of the shelving location—that is, the space within a store in which the car seat is displayed—at each location. The predictor ${\\tt Shelveloc}$ takes on three possible values, ${\\tt Bad}$, ${\\tt Medium}$, and ${\\tt Good}$.\n",
    "\n",
    "Given a qualitative variable such as ${\\tt Shelveloc}$, Python generates dummy variables automatically. Below we fit a multiple regression model that includes some interaction terms."
   ]
  },
  {
   "cell_type": "code",
   "execution_count": 27,
   "metadata": {},
   "outputs": [
    {
     "name": "stdout",
     "output_type": "stream",
     "text": [
      "                            OLS Regression Results                            \n",
      "==============================================================================\n",
      "Dep. Variable:                  Sales   R-squared:                       0.876\n",
      "Model:                            OLS   Adj. R-squared:                  0.872\n",
      "Method:                 Least Squares   F-statistic:                     210.0\n",
      "Date:                Wed, 15 Jul 2020   Prob (F-statistic):          6.14e-166\n",
      "Time:                        21:57:51   Log-Likelihood:                -564.67\n",
      "No. Observations:                 400   AIC:                             1157.\n",
      "Df Residuals:                     386   BIC:                             1213.\n",
      "Df Model:                          13                                         \n",
      "Covariance Type:            nonrobust                                         \n",
      "=======================================================================================\n",
      "                          coef    std err          t      P>|t|      [0.025      0.975]\n",
      "---------------------------------------------------------------------------------------\n",
      "Intercept               6.5756      1.009      6.519      0.000       4.592       8.559\n",
      "ShelveLoc[T.Good]       4.8487      0.153     31.724      0.000       4.548       5.149\n",
      "ShelveLoc[T.Medium]     1.9533      0.126     15.531      0.000       1.706       2.201\n",
      "US[T.Yes]              -0.1576      0.149     -1.058      0.291      -0.450       0.135\n",
      "Urban[T.Yes]            0.1402      0.112      1.247      0.213      -0.081       0.361\n",
      "Income:Advertising      0.0008      0.000      2.698      0.007       0.000       0.001\n",
      "Price:Age               0.0001      0.000      0.801      0.424      -0.000       0.000\n",
      "Advertising             0.0702      0.023      3.107      0.002       0.026       0.115\n",
      "Age                    -0.0579      0.016     -3.633      0.000      -0.089      -0.027\n",
      "CompPrice               0.0929      0.004     22.567      0.000       0.085       0.101\n",
      "Education              -0.0209      0.020     -1.063      0.288      -0.059       0.018\n",
      "Income                  0.0109      0.003      4.183      0.000       0.006       0.016\n",
      "Population              0.0002      0.000      0.433      0.665      -0.001       0.001\n",
      "Price                  -0.1008      0.007    -13.549      0.000      -0.115      -0.086\n",
      "==============================================================================\n",
      "Omnibus:                        1.281   Durbin-Watson:                   2.047\n",
      "Prob(Omnibus):                  0.527   Jarque-Bera (JB):                1.147\n",
      "Skew:                           0.129   Prob(JB):                        0.564\n",
      "Kurtosis:                       3.050   Cond. No.                     1.31e+05\n",
      "==============================================================================\n",
      "\n",
      "Warnings:\n",
      "[1] Standard Errors assume that the covariance matrix of the errors is correctly specified.\n",
      "[2] The condition number is large, 1.31e+05. This might indicate that there are\n",
      "strong multicollinearity or other numerical problems.\n"
     ]
    }
   ],
   "source": [
    "df2 = pd.read_csv('./data/Carseats.csv')\n",
    "\n",
    "print(sm.OLS.from_formula('Sales ~ Income:Advertising+Price:Age + ' + \"+\".join(df2.columns.difference(['Sales'])), df2).fit().summary())"
   ]
  }
 ],
 "metadata": {
  "colab": {
   "collapsed_sections": [],
   "name": "Linear Regression Essentials.ipynb",
   "provenance": []
  },
  "kernelspec": {
   "display_name": "Python 3",
   "language": "python",
   "name": "python3"
  },
  "language_info": {
   "codemirror_mode": {
    "name": "ipython",
    "version": 3
   },
   "file_extension": ".py",
   "mimetype": "text/x-python",
   "name": "python",
   "nbconvert_exporter": "python",
   "pygments_lexer": "ipython3",
   "version": "3.7.7"
  },
  "toc": {
   "base_numbering": 1,
   "nav_menu": {},
   "number_sections": true,
   "sideBar": true,
   "skip_h1_title": false,
   "title_cell": "Table of Contents",
   "title_sidebar": "Contents",
   "toc_cell": false,
   "toc_position": {},
   "toc_section_display": true,
   "toc_window_display": true
  }
 },
 "nbformat": 4,
 "nbformat_minor": 4
}
