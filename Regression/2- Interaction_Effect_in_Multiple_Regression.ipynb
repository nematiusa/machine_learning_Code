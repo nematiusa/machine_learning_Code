{
 "cells": [
  {
   "cell_type": "markdown",
   "metadata": {
    "colab_type": "text",
    "id": "Jz5J1UnppD6_"
   },
   "source": [
    "# Interaction Effect in Multiple Regression\n",
    "\n",
    "Previously, we have described how to build a multiple linear regression model for predicting a continuous outcome variable (y) based on multiple predictor variables (x).\n",
    "\n",
    "For example, to predict sales, based on advertising budgets spent on youtube and facebook, the model equation is sales = b0 + b1*youtube + b2*facebook, where, b0 is the intercept; b1 and b2 are the regression coefficients associated respectively with the predictor variables youtube and facebook.\n",
    "\n",
    "The above equation, also known as additive model, investigates only the main effects of predictors. It assumes that the relationship between a given predictor variable and the outcome is independent of the other predictor variables (James et al. 2014,P. Bruce and Bruce (2017)).\n",
    "\n",
    "Considering our example, the additive model assumes that, the effect on sales of youtube advertising is independent of the effect of facebook advertising.\n",
    "\n",
    "This assumption might not be true. For example, spending money on facebook advertising may increase the effectiveness of youtube advertising on sales. In marketing, this is known as a synergy effect, and in statistics it is referred to as an interaction effect (James et al. 2014)."
   ]
  },
  {
   "cell_type": "markdown",
   "metadata": {
    "colab_type": "text",
    "id": "pZGPfTJlpXg0"
   },
   "source": [
    "Equation\n",
    "The multiple linear regression equation, with interaction effects between two predictors (x1 and x2), can be written as follow:\n",
    "\n",
    "y = b0 + b1*x1 + b2*x2 + b3*(x1*x2)\n",
    "\n",
    "Considering our example, it becomes:\n",
    "\n",
    "sales = b0 + b1*youtube + b2*facebook + b3*(youtube*facebook)\n",
    "\n",
    "This can be also written as:\n",
    "\n",
    "sales = b0 + (b1 + b3*facebook)*youtube + b2*facebook\n",
    "\n",
    "or as:\n",
    "\n",
    "sales = b0 + b1*youtube + (b2 +b3*youtube)*facebook"
   ]
  },
  {
   "cell_type": "code",
   "execution_count": 2,
   "metadata": {
    "colab": {
     "base_uri": "https://localhost:8080/",
     "height": 479
    },
    "colab_type": "code",
    "id": "7Cotqho6joKW",
    "outputId": "e9be801f-6d40-407b-93b5-c2245d3d3afa"
   },
   "outputs": [
    {
     "name": "stdout",
     "output_type": "stream",
     "text": [
      "                                 OLS Regression Results                                \n",
      "=======================================================================================\n",
      "Dep. Variable:                  sales   R-squared (uncentered):                   0.982\n",
      "Model:                            OLS   Adj. R-squared (uncentered):              0.982\n",
      "Method:                 Least Squares   F-statistic:                              3566.\n",
      "Date:                Sun, 14 Jun 2020   Prob (F-statistic):                   2.43e-171\n",
      "Time:                        23:13:28   Log-Likelihood:                         -460.01\n",
      "No. Observations:                 200   AIC:                                      926.0\n",
      "Df Residuals:                     197   BIC:                                      935.9\n",
      "Df Model:                           3                                                  \n",
      "Covariance Type:            nonrobust                                                  \n",
      "==============================================================================\n",
      "                 coef    std err          t      P>|t|      [0.025      0.975]\n",
      "------------------------------------------------------------------------------\n",
      "youtube        0.0538      0.001     40.507      0.000       0.051       0.056\n",
      "facebook       0.2222      0.009     23.595      0.000       0.204       0.241\n",
      "newspaper      0.0168      0.007      2.517      0.013       0.004       0.030\n",
      "==============================================================================\n",
      "Omnibus:                        5.982   Durbin-Watson:                   2.038\n",
      "Prob(Omnibus):                  0.050   Jarque-Bera (JB):                7.039\n",
      "Skew:                          -0.232   Prob(JB):                       0.0296\n",
      "Kurtosis:                       3.794   Cond. No.                         12.6\n",
      "==============================================================================\n",
      "\n",
      "Warnings:\n",
      "[1] Standard Errors assume that the covariance matrix of the errors is correctly specified.\n"
     ]
    }
   ],
   "source": [
    "import pandas as pd\n",
    "import statsmodels.api as sm\n",
    "from sklearn.preprocessing import PolynomialFeatures#generating interaction terms\n",
    "from statsmodels.regression import linear_model\n",
    "\n",
    "data= pd.read_csv(\"data/marketing.csv\" , index_col='Unnamed: 0')\n",
    "X = data.drop('sales', axis=1)\n",
    "y = data['sales']\n",
    "model = linear_model.OLS(y, X).fit()\n",
    "print(model.summary())"
   ]
  },
  {
   "cell_type": "code",
   "execution_count": 3,
   "metadata": {
    "colab": {
     "base_uri": "https://localhost:8080/",
     "height": 439
    },
    "colab_type": "code",
    "id": "19BteELVlMkx",
    "outputId": "6f746e96-271c-4012-b285-63f54fbc9962"
   },
   "outputs": [
    {
     "data": {
      "text/html": [
       "<div>\n",
       "<style scoped>\n",
       "    .dataframe tbody tr th:only-of-type {\n",
       "        vertical-align: middle;\n",
       "    }\n",
       "\n",
       "    .dataframe tbody tr th {\n",
       "        vertical-align: top;\n",
       "    }\n",
       "\n",
       "    .dataframe thead th {\n",
       "        text-align: right;\n",
       "    }\n",
       "</style>\n",
       "<table border=\"1\" class=\"dataframe\">\n",
       "  <thead>\n",
       "    <tr style=\"text-align: right;\">\n",
       "      <th></th>\n",
       "      <th>youtube</th>\n",
       "      <th>facebook</th>\n",
       "      <th>newspaper</th>\n",
       "      <th>youtube:facebook</th>\n",
       "      <th>youtube:newspaper</th>\n",
       "      <th>facebook:newspaper</th>\n",
       "    </tr>\n",
       "  </thead>\n",
       "  <tbody>\n",
       "    <tr>\n",
       "      <th>0</th>\n",
       "      <td>276.12</td>\n",
       "      <td>45.36</td>\n",
       "      <td>83.04</td>\n",
       "      <td>12524.8032</td>\n",
       "      <td>22929.0048</td>\n",
       "      <td>3766.6944</td>\n",
       "    </tr>\n",
       "    <tr>\n",
       "      <th>1</th>\n",
       "      <td>53.40</td>\n",
       "      <td>47.16</td>\n",
       "      <td>54.12</td>\n",
       "      <td>2518.3440</td>\n",
       "      <td>2890.0080</td>\n",
       "      <td>2552.2992</td>\n",
       "    </tr>\n",
       "    <tr>\n",
       "      <th>2</th>\n",
       "      <td>20.64</td>\n",
       "      <td>55.08</td>\n",
       "      <td>83.16</td>\n",
       "      <td>1136.8512</td>\n",
       "      <td>1716.4224</td>\n",
       "      <td>4580.4528</td>\n",
       "    </tr>\n",
       "    <tr>\n",
       "      <th>3</th>\n",
       "      <td>181.80</td>\n",
       "      <td>49.56</td>\n",
       "      <td>70.20</td>\n",
       "      <td>9010.0080</td>\n",
       "      <td>12762.3600</td>\n",
       "      <td>3479.1120</td>\n",
       "    </tr>\n",
       "    <tr>\n",
       "      <th>4</th>\n",
       "      <td>216.96</td>\n",
       "      <td>12.96</td>\n",
       "      <td>70.08</td>\n",
       "      <td>2811.8016</td>\n",
       "      <td>15204.5568</td>\n",
       "      <td>908.2368</td>\n",
       "    </tr>\n",
       "    <tr>\n",
       "      <th>...</th>\n",
       "      <td>...</td>\n",
       "      <td>...</td>\n",
       "      <td>...</td>\n",
       "      <td>...</td>\n",
       "      <td>...</td>\n",
       "      <td>...</td>\n",
       "    </tr>\n",
       "    <tr>\n",
       "      <th>195</th>\n",
       "      <td>45.84</td>\n",
       "      <td>4.44</td>\n",
       "      <td>16.56</td>\n",
       "      <td>203.5296</td>\n",
       "      <td>759.1104</td>\n",
       "      <td>73.5264</td>\n",
       "    </tr>\n",
       "    <tr>\n",
       "      <th>196</th>\n",
       "      <td>113.04</td>\n",
       "      <td>5.88</td>\n",
       "      <td>9.72</td>\n",
       "      <td>664.6752</td>\n",
       "      <td>1098.7488</td>\n",
       "      <td>57.1536</td>\n",
       "    </tr>\n",
       "    <tr>\n",
       "      <th>197</th>\n",
       "      <td>212.40</td>\n",
       "      <td>11.16</td>\n",
       "      <td>7.68</td>\n",
       "      <td>2370.3840</td>\n",
       "      <td>1631.2320</td>\n",
       "      <td>85.7088</td>\n",
       "    </tr>\n",
       "    <tr>\n",
       "      <th>198</th>\n",
       "      <td>340.32</td>\n",
       "      <td>50.40</td>\n",
       "      <td>79.44</td>\n",
       "      <td>17152.1280</td>\n",
       "      <td>27035.0208</td>\n",
       "      <td>4003.7760</td>\n",
       "    </tr>\n",
       "    <tr>\n",
       "      <th>199</th>\n",
       "      <td>278.52</td>\n",
       "      <td>10.32</td>\n",
       "      <td>10.44</td>\n",
       "      <td>2874.3264</td>\n",
       "      <td>2907.7488</td>\n",
       "      <td>107.7408</td>\n",
       "    </tr>\n",
       "  </tbody>\n",
       "</table>\n",
       "<p>200 rows × 6 columns</p>\n",
       "</div>"
      ],
      "text/plain": [
       "     youtube  facebook  newspaper  youtube:facebook  youtube:newspaper  \\\n",
       "0     276.12     45.36      83.04        12524.8032         22929.0048   \n",
       "1      53.40     47.16      54.12         2518.3440          2890.0080   \n",
       "2      20.64     55.08      83.16         1136.8512          1716.4224   \n",
       "3     181.80     49.56      70.20         9010.0080         12762.3600   \n",
       "4     216.96     12.96      70.08         2811.8016         15204.5568   \n",
       "..       ...       ...        ...               ...                ...   \n",
       "195    45.84      4.44      16.56          203.5296           759.1104   \n",
       "196   113.04      5.88       9.72          664.6752          1098.7488   \n",
       "197   212.40     11.16       7.68         2370.3840          1631.2320   \n",
       "198   340.32     50.40      79.44        17152.1280         27035.0208   \n",
       "199   278.52     10.32      10.44         2874.3264          2907.7488   \n",
       "\n",
       "     facebook:newspaper  \n",
       "0             3766.6944  \n",
       "1             2552.2992  \n",
       "2             4580.4528  \n",
       "3             3479.1120  \n",
       "4              908.2368  \n",
       "..                  ...  \n",
       "195             73.5264  \n",
       "196             57.1536  \n",
       "197             85.7088  \n",
       "198           4003.7760  \n",
       "199            107.7408  \n",
       "\n",
       "[200 rows x 6 columns]"
      ]
     },
     "execution_count": 3,
     "metadata": {},
     "output_type": "execute_result"
    }
   ],
   "source": [
    "from sklearn.preprocessing import PolynomialFeatures#generating interaction terms\n",
    "#generating interaction terms\n",
    "x_interaction = PolynomialFeatures(2, interaction_only=True, include_bias=False).fit_transform(X)\n",
    "#creating a new dataframe with the interaction terms included\n",
    "interaction_df = pd.DataFrame(x_interaction, columns = ['youtube', 'facebook', 'newspaper' , \n",
    "                                                        'youtube:facebook', 'youtube:newspaper',\n",
    "                                                    'facebook:newspaper' ] )\n",
    "interaction_df"
   ]
  },
  {
   "cell_type": "code",
   "execution_count": 4,
   "metadata": {
    "colab": {
     "base_uri": "https://localhost:8080/",
     "height": 564
    },
    "colab_type": "code",
    "id": "c3J2se8Zpxil",
    "outputId": "8584b2be-558c-4378-ca89-85d12f31d99c"
   },
   "outputs": [
    {
     "name": "stdout",
     "output_type": "stream",
     "text": [
      "                                 OLS Regression Results                                \n",
      "=======================================================================================\n",
      "Dep. Variable:                      y   R-squared (uncentered):                   0.988\n",
      "Model:                            OLS   Adj. R-squared (uncentered):              0.988\n",
      "Method:                 Least Squares   F-statistic:                              2675.\n",
      "Date:                Sun, 14 Jun 2020   Prob (F-statistic):                   1.41e-183\n",
      "Time:                        23:13:35   Log-Likelihood:                         -418.51\n",
      "No. Observations:                 200   AIC:                                      849.0\n",
      "Df Residuals:                     194   BIC:                                      868.8\n",
      "Df Model:                           6                                                  \n",
      "Covariance Type:            nonrobust                                                  \n",
      "======================================================================================\n",
      "                         coef    std err          t      P>|t|      [0.025      0.975]\n",
      "--------------------------------------------------------------------------------------\n",
      "youtube                0.0433      0.002     21.356      0.000       0.039       0.047\n",
      "facebook               0.1811      0.015     12.258      0.000       0.152       0.210\n",
      "newspaper              0.1443      0.014     10.343      0.000       0.117       0.172\n",
      "youtube:facebook       0.0006   7.89e-05      7.723      0.000       0.000       0.001\n",
      "youtube:newspaper     -0.0003   4.94e-05     -5.652      0.000      -0.000      -0.000\n",
      "facebook:newspaper    -0.0023      0.000     -7.843      0.000      -0.003      -0.002\n",
      "==============================================================================\n",
      "Omnibus:                        4.068   Durbin-Watson:                   2.040\n",
      "Prob(Omnibus):                  0.131   Jarque-Bera (JB):                5.085\n",
      "Skew:                          -0.048   Prob(JB):                       0.0787\n",
      "Kurtosis:                       3.775   Cond. No.                     1.40e+03\n",
      "==============================================================================\n",
      "\n",
      "Warnings:\n",
      "[1] Standard Errors assume that the covariance matrix of the errors is correctly specified.\n",
      "[2] The condition number is large, 1.4e+03. This might indicate that there are\n",
      "strong multicollinearity or other numerical problems.\n"
     ]
    }
   ],
   "source": [
    "interaction_model = linear_model.OLS(y.values.reshape(-1,1), interaction_df).fit()\n",
    "print(interaction_model.summary())"
   ]
  },
  {
   "cell_type": "code",
   "execution_count": 5,
   "metadata": {
    "colab": {
     "base_uri": "https://localhost:8080/",
     "height": 136
    },
    "colab_type": "code",
    "id": "fFonkCdRqzR5",
    "outputId": "1af55a60-89d7-4a89-be96-9cd385621710"
   },
   "outputs": [
    {
     "data": {
      "text/plain": [
       "youtube               7.792133e-53\n",
       "facebook              5.942712e-26\n",
       "newspaper             2.996430e-20\n",
       "youtube:facebook      5.913430e-13\n",
       "youtube:newspaper     5.610839e-08\n",
       "facebook:newspaper    2.861813e-13\n",
       "dtype: float64"
      ]
     },
     "execution_count": 5,
     "metadata": {},
     "output_type": "execute_result"
    }
   ],
   "source": [
    "interaction_model.pvalues[interaction_model.pvalues < 0.05]"
   ]
  },
  {
   "cell_type": "code",
   "execution_count": 6,
   "metadata": {
    "colab": {
     "base_uri": "https://localhost:8080/",
     "height": 272
    },
    "colab_type": "code",
    "id": "uNpqq_bTql5m",
    "outputId": "5e1df46f-2496-48ab-e3a2-22cc4f8e9969"
   },
   "outputs": [
    {
     "name": "stdout",
     "output_type": "stream",
     "text": [
      "Parameters:  youtube               0.043296\n",
      "facebook              0.181139\n",
      "newspaper             0.144349\n",
      "youtube:facebook      0.000609\n",
      "youtube:newspaper    -0.000279\n",
      "facebook:newspaper   -0.002285\n",
      "dtype: float64\n",
      "R2:  0.9880589866646199\n",
      "Pvalues:  youtube               7.792133e-53\n",
      "facebook              5.942712e-26\n",
      "newspaper             2.996430e-20\n",
      "youtube:facebook      5.913430e-13\n",
      "youtube:newspaper     5.610839e-08\n",
      "facebook:newspaper    2.861813e-13\n",
      "dtype: float64\n"
     ]
    }
   ],
   "source": [
    "print('Parameters: ', interaction_model.params)\n",
    "print('R2: ', interaction_model.rsquared)\n",
    "print('Pvalues: ', interaction_model.pvalues)"
   ]
  },
  {
   "cell_type": "markdown",
   "metadata": {
    "colab_type": "text",
    "id": "7L4GbBnkqPfk"
   },
   "source": [
    "# Using Linear regression Technique"
   ]
  },
  {
   "cell_type": "code",
   "execution_count": 8,
   "metadata": {
    "colab": {
     "base_uri": "https://localhost:8080/",
     "height": 391
    },
    "colab_type": "code",
    "id": "saQauHN2rKy1",
    "outputId": "11459c64-9b4c-4d66-efd6-8e129387f8b5"
   },
   "outputs": [
    {
     "name": "stdout",
     "output_type": "stream",
     "text": [
      "          youtube    facebook   newspaper       sales\n",
      "count  200.000000  200.000000  200.000000  200.000000\n",
      "mean   176.451000   27.916800   36.664800   16.827000\n",
      "std    103.025084   17.816171   26.134345    6.260948\n",
      "min      0.840000    0.000000    0.360000    1.920000\n",
      "25%     89.250000   11.970000   15.300000   12.450000\n",
      "50%    179.700000   27.480000   30.900000   15.480000\n",
      "75%    262.590000   43.830000   54.120000   20.880000\n",
      "max    355.680000   59.520000  136.800000   32.400000\n",
      "To retrieve the intercept:  [3.59387164]\n",
      "For retrieving the slope:  [[ 0.04458402  0.19649703 -0.00278146]]\n",
      "   Actual  Predicted\n",
      "0   13.56  12.068875\n",
      "1   10.08   8.942737\n",
      "2   10.44   8.423649\n",
      "3   30.48  28.896357\n",
      "4   14.04  14.421435\n",
      "5   10.44   7.845526\n",
      "6    8.64  15.339443\n",
      "7   15.84  18.131695\n",
      "8   11.04  12.923688\n",
      "9   19.92  19.612295\n"
     ]
    }
   ],
   "source": [
    "import pandas as pd  \n",
    "import numpy as np  \n",
    "import matplotlib.pyplot as plt  \n",
    "import seaborn as seabornInstance \n",
    "from sklearn.model_selection import train_test_split \n",
    "from sklearn.linear_model import LinearRegression\n",
    "from sklearn import metrics\n",
    "%matplotlib inline\n",
    "dataset = pd.read_csv(\"data/marketing.csv\" , index_col='Unnamed: 0')\n",
    "print(dataset.describe())\n",
    "\n",
    "dataset.isnull().any()\n",
    "dataset = dataset.fillna(method='ffill')\n",
    "\n",
    "\n",
    "# split data\n",
    "X = dataset[['youtube' , 'facebook' , 'newspaper']].values\n",
    "y = dataset[['sales']].values\n",
    "\n",
    "X_train, X_test, y_train, y_test = train_test_split(X, y, test_size=0.2, random_state=0)\n",
    "regressor = LinearRegression().fit(X_train, y_train) #training the algorithm\n",
    "\n",
    "#To retrieve the intercept:\n",
    "print(\"To retrieve the intercept: \" , regressor.intercept_)\n",
    "#For retrieving the slope:\n",
    "print(\"For retrieving the slope: \" , regressor.coef_)\n",
    "y_pred = regressor.predict(X_test)\n",
    "df = pd.DataFrame({'Actual': y_test.flatten(), 'Predicted': y_pred.flatten()})\n",
    "print(df.head(10))"
   ]
  },
  {
   "cell_type": "code",
   "execution_count": 9,
   "metadata": {
    "colab": {
     "base_uri": "https://localhost:8080/",
     "height": 102
    },
    "colab_type": "code",
    "id": "GuMMAv-SrraW",
    "outputId": "cf087a13-a480-4719-823d-1424c1e6ef20"
   },
   "outputs": [
    {
     "name": "stdout",
     "output_type": "stream",
     "text": [
      "Mean Absolute Error: 1.6341376202508333\n",
      "Mean Squared Error: 6.339050339687548\n",
      "Root Mean Squared Error: 2.5177470761948166\n",
      "R Score 0.9067114990146382\n",
      "An error rate:  0.15843855491755185\n"
     ]
    }
   ],
   "source": [
    "print('Mean Absolute Error:', metrics.mean_absolute_error(y_test, y_pred))  \n",
    "print('Mean Squared Error:', metrics.mean_squared_error(y_test, y_pred))  \n",
    "print('Root Mean Squared Error:', np.sqrt(metrics.mean_squared_error(y_test, y_pred)))\n",
    "print(\"R Score\" , regressor.score(X_train, y_train)) \n",
    "print(\"An error rate: \" ,np.sqrt(metrics.mean_squared_error(y_test, y_pred)) / np.mean(y_test))"
   ]
  },
  {
   "cell_type": "code",
   "execution_count": 10,
   "metadata": {
    "colab": {
     "base_uri": "https://localhost:8080/",
     "height": 275
    },
    "colab_type": "code",
    "id": "8gn1pvG3rgWj",
    "outputId": "1ee25257-6f8c-496e-8076-31ae51f0549d"
   },
   "outputs": [
    {
     "name": "stdout",
     "output_type": "stream",
     "text": [
      "To retrieve the intercept:  [7.63297321]\n",
      "For retrieving the slope:  [[ 2.02406259e-02  3.62723148e-02  1.75222906e-02  9.11329922e-04\n",
      "  -5.41593417e-05 -1.73882564e-04]]\n",
      "   Actual  Predicted\n",
      "0   13.56  12.259797\n",
      "1   10.08  10.375163\n",
      "2   10.44  10.199836\n",
      "3   30.48  31.969616\n",
      "4   14.04  14.052761\n",
      "5   10.44  10.118421\n",
      "6    8.64  11.138852\n",
      "7   15.84  16.086702\n",
      "8   11.04  11.519283\n",
      "9   19.92  19.485511\n"
     ]
    }
   ],
   "source": [
    "from sklearn.preprocessing import PolynomialFeatures#generating interaction terms\n",
    "#generating interaction terms\n",
    "x_interaction = PolynomialFeatures(2, interaction_only=True, include_bias=False).fit_transform(X)\n",
    "#creating a new dataframe with the interaction terms included\n",
    "interaction_df = pd.DataFrame(x_interaction, columns = ['youtube', 'facebook', 'newspaper' , \n",
    "                                                        'youtube:facebook', 'youtube:newspaper',\n",
    "                                                    'facebook:newspaper' ] )\n",
    "\n",
    "\n",
    "X_train, X_test, y_train, y_test = train_test_split(interaction_df, y, test_size=0.2, random_state=0)\n",
    "regressor = LinearRegression().fit(X_train, y_train) #training the algorithm\n",
    "\n",
    "#To retrieve the intercept:\n",
    "print(\"To retrieve the intercept: \" , regressor.intercept_)\n",
    "#For retrieving the slope:\n",
    "print(\"For retrieving the slope: \" , regressor.coef_)\n",
    "y_pred = regressor.predict(X_test)\n",
    "df = pd.DataFrame({'Actual': y_test.flatten(), 'Predicted': y_pred.flatten()})\n",
    "print(df.head(10))"
   ]
  },
  {
   "cell_type": "code",
   "execution_count": 11,
   "metadata": {
    "colab": {
     "base_uri": "https://localhost:8080/",
     "height": 102
    },
    "colab_type": "code",
    "id": "i6Qc_onBrv3z",
    "outputId": "26a5e7b9-4deb-4968-f83e-cf30508650ff"
   },
   "outputs": [
    {
     "name": "stdout",
     "output_type": "stream",
     "text": [
      "Mean Absolute Error: 0.9026018467499058\n",
      "Mean Squared Error: 2.319623301504984\n",
      "Root Mean Squared Error: 1.5230309588137019\n",
      "R Score 0.9738701026425148\n",
      "An error rate:  0.09584236101023862\n"
     ]
    }
   ],
   "source": [
    "print('Mean Absolute Error:', metrics.mean_absolute_error(y_test, y_pred))  \n",
    "print('Mean Squared Error:', metrics.mean_squared_error(y_test, y_pred))  \n",
    "print('Root Mean Squared Error:', np.sqrt(metrics.mean_squared_error(y_test, y_pred)))\n",
    "print(\"R Score\" , regressor.score(X_train, y_train)) \n",
    "print(\"An error rate: \" ,np.sqrt(metrics.mean_squared_error(y_test, y_pred)) / np.mean(y_test))"
   ]
  },
  {
   "cell_type": "code",
   "execution_count": null,
   "metadata": {},
   "outputs": [],
   "source": []
  }
 ],
 "metadata": {
  "colab": {
   "name": "Interaction Effect in Multiple Regression.ipynb",
   "provenance": []
  },
  "kernelspec": {
   "display_name": "Python 3",
   "language": "python",
   "name": "python3"
  },
  "language_info": {
   "codemirror_mode": {
    "name": "ipython",
    "version": 3
   },
   "file_extension": ".py",
   "mimetype": "text/x-python",
   "name": "python",
   "nbconvert_exporter": "python",
   "pygments_lexer": "ipython3",
   "version": "3.7.7"
  }
 },
 "nbformat": 4,
 "nbformat_minor": 1
}
